{
 "cells": [
  {
   "cell_type": "code",
   "execution_count": null,
   "id": "94f3e010",
   "metadata": {},
   "outputs": [],
   "source": [
    "import pandas as pd \n",
    "import numpy as np\n",
    "import matplotlib.pyplot as plt\n"
   ]
  },
  {
   "cell_type": "code",
   "execution_count": null,
   "id": "c9d116c3",
   "metadata": {},
   "outputs": [],
   "source": [
    "url = \"D:/IBM - Internship/Data Analysis Using Python/Automobile_Price_prediction/imports-85.csv\""
   ]
  },
  {
   "cell_type": "markdown",
   "id": "a4ca2b0a",
   "metadata": {},
   "source": [
    "### Diffrent Format That Pandas Support : read_csv( ), read_json( ), read_excel( ), read_sql( )\n",
    "\n"
   ]
  },
  {
   "cell_type": "code",
   "execution_count": null,
   "id": "f4687d5b",
   "metadata": {},
   "outputs": [],
   "source": [
    "\n",
    "# Our Dataset Doesn't Include Column Header So \n",
    "# header = None is used \n",
    "df = pd.read_csv(url,header = None)"
   ]
  },
  {
   "cell_type": "code",
   "execution_count": null,
   "id": "6a0dbae2",
   "metadata": {},
   "outputs": [],
   "source": [
    "df.head()"
   ]
  },
  {
   "cell_type": "code",
   "execution_count": null,
   "id": "7d42b89e",
   "metadata": {},
   "outputs": [],
   "source": [
    "df.shape"
   ]
  },
  {
   "cell_type": "code",
   "execution_count": null,
   "id": "3a41a7cd",
   "metadata": {},
   "outputs": [],
   "source": [
    "# Now We Have to Assigne Header Name \n",
    "headers = [\"symboling\",\"normalized-losses\",\"make\",\"fuel-type\", \"aspiration\", \n",
    "           \"num-of-doors\",\"body-style\", \"drive-wheels\", \"engine-location\", \n",
    "           \"wheel-base\", \"length\",\"width\",\"height\", \"curb-weight\",\"engine-type\",\n",
    "           \"num-of-cylinders\", \"engine-size\",\"fuel-system\", \"bore\",\"stroke\",\"compression-ratio\",\n",
    "           \"horsepower\", \"peak- rpm\",\"city-mpg\", \"highway-mpg\",\"price\"]"
   ]
  },
  {
   "cell_type": "code",
   "execution_count": null,
   "id": "7dda15da",
   "metadata": {},
   "outputs": [],
   "source": [
    "# df.columns is used to assignment of the header names\n",
    "df.columns = headers "
   ]
  },
  {
   "cell_type": "code",
   "execution_count": null,
   "id": "74f3c663",
   "metadata": {},
   "outputs": [],
   "source": [
    "df.head(5)"
   ]
  },
  {
   "cell_type": "code",
   "execution_count": null,
   "id": "ed79a17c",
   "metadata": {},
   "outputs": [],
   "source": [
    "# Export Csv File\n",
    "path = \"D:/IBM - Internship/Data Analysis Using Python/Automobile_Price_prediction/data_with_headers.csv\"\n",
    "df.to_csv(path)"
   ]
  },
  {
   "cell_type": "markdown",
   "id": "a41dc904",
   "metadata": {},
   "source": [
    "# Understanding Data \n"
   ]
  },
  {
   "cell_type": "code",
   "execution_count": null,
   "id": "e217cfc9",
   "metadata": {},
   "outputs": [],
   "source": [
    "# Check The Data Types\n",
    "df.dtypes"
   ]
  },
  {
   "cell_type": "markdown",
   "id": "831e0388",
   "metadata": {},
   "source": [
    "###### here Price has assigned wrong data type "
   ]
  },
  {
   "cell_type": "code",
   "execution_count": null,
   "id": "d41dafed",
   "metadata": {},
   "outputs": [],
   "source": [
    "# Let's See Some Statistics using df.describe()\n",
    "# it only include column with numberic value\n",
    "df.describe()"
   ]
  },
  {
   "cell_type": "code",
   "execution_count": null,
   "id": "e840be5e",
   "metadata": {},
   "outputs": [],
   "source": [
    "# To see all the column we have to use include = \"all\"\n",
    "# for object type column include only unique,top,freq\n",
    "df.describe(include = \"all\")"
   ]
  },
  {
   "cell_type": "code",
   "execution_count": null,
   "id": "da80c90b",
   "metadata": {},
   "outputs": [],
   "source": [
    "df.info()"
   ]
  },
  {
   "cell_type": "markdown",
   "id": "dbd1bcd8",
   "metadata": {},
   "source": [
    "# Preprocessing The Data\n"
   ]
  },
  {
   "cell_type": "markdown",
   "id": "c8a60f90",
   "metadata": {},
   "source": [
    "### Missing Value : \"?\",NaN,0"
   ]
  },
  {
   "cell_type": "code",
   "execution_count": null,
   "id": "1eba9d31",
   "metadata": {},
   "outputs": [],
   "source": [
    "# isnull() function check for empty and NaN cell\n",
    "df.isnull().sum()"
   ]
  },
  {
   "cell_type": "code",
   "execution_count": null,
   "id": "8a133f9b",
   "metadata": {},
   "outputs": [],
   "source": [
    "# drop column contain empty or null values\n",
    "df.dropna(subset = [\"aspiration\",\"body-style\"],axis = 0,inplace = True)"
   ]
  },
  {
   "cell_type": "code",
   "execution_count": null,
   "id": "6ecf9d47",
   "metadata": {},
   "outputs": [],
   "source": [
    "df[\"aspiration\"].isnull().sum()"
   ]
  },
  {
   "cell_type": "code",
   "execution_count": null,
   "id": "d81b6fc3",
   "metadata": {},
   "outputs": [],
   "source": [
    "df[\"body-style\"].isnull().sum()"
   ]
  },
  {
   "cell_type": "code",
   "execution_count": null,
   "id": "e794e1fe",
   "metadata": {},
   "outputs": [],
   "source": [
    "# Replacing missing value of width using mean \n",
    "mean = df[\"width\"].mean()\n",
    "mean"
   ]
  },
  {
   "cell_type": "code",
   "execution_count": null,
   "id": "2e93145c",
   "metadata": {},
   "outputs": [],
   "source": [
    "df[\"width\"].fillna(mean,inplace = True)"
   ]
  },
  {
   "cell_type": "code",
   "execution_count": null,
   "id": "47646201",
   "metadata": {},
   "outputs": [],
   "source": [
    "df[\"width\"].isnull().sum()"
   ]
  },
  {
   "cell_type": "code",
   "execution_count": null,
   "id": "eaec91b0",
   "metadata": {
    "scrolled": false
   },
   "outputs": [],
   "source": [
    "df.head()"
   ]
  },
  {
   "cell_type": "code",
   "execution_count": null,
   "id": "0635df35",
   "metadata": {
    "scrolled": false
   },
   "outputs": [],
   "source": [
    "# Looking for ? and drop them\n",
    "df.replace(\"?\",np.nan,inplace = True)\n",
    "df.isnull().sum()"
   ]
  },
  {
   "cell_type": "markdown",
   "id": "e294dede",
   "metadata": {},
   "source": [
    "df[\"bore\"]=df[\"bore\"].astype(\"float\")\n",
    "df[\"stroke\"]=df[\"stroke\"].astype(\"float\")\n",
    "df[\"horsepower\"]=df[\"horsepower\"].astype(\"float\")\n",
    "df[\"peak- rpm\"]=df[\"peak- rpm\"].astype(\"float\")\n",
    "df[\"normalized-losses\"]=df[\"normalized-losses\"].astype(\"float\")\n",
    "\n"
   ]
  },
  {
   "cell_type": "code",
   "execution_count": null,
   "id": "7130ebb8",
   "metadata": {},
   "outputs": [],
   "source": [
    "df['bore'] = pd.to_numeric(df['bore'])\n",
    "df['stroke'] = pd.to_numeric(df['stroke'])\n",
    "df['horsepower'] = pd.to_numeric(df['horsepower'])\n",
    "df['peak- rpm'] = pd.to_numeric(df['peak- rpm'])\n",
    "df['normalized-losses'] = pd.to_numeric(df['normalized-losses'])\n"
   ]
  },
  {
   "cell_type": "code",
   "execution_count": null,
   "id": "6e14ec07",
   "metadata": {},
   "outputs": [],
   "source": [
    "df.dtypes"
   ]
  },
  {
   "cell_type": "markdown",
   "id": "5caf10cb",
   "metadata": {},
   "source": [
    "<ul>\n",
    "    <li>\"normalized-losses\": 41 missing data, replace them with mean</li>\n",
    "    <li>\"stroke\": 4 missing data, replace them with mean</li>\n",
    "    <li>\"bore\": 4 missing data, replace them with mean</li>\n",
    "    <li>\"horsepower\": 2 missing data, replace them with mean</li>\n",
    "    <li>\"peak-rpm\": 2 missing data, replace them with mean</li>\n",
    "</ul>\n"
   ]
  },
  {
   "cell_type": "code",
   "execution_count": null,
   "id": "14a1a302",
   "metadata": {},
   "outputs": [],
   "source": [
    "df[\"normalized-losses\"].fillna(df[\"normalized-losses\"].astype(\"float\").mean(),inplace = True)\n",
    "print(\"Null-Count:\",df[\"normalized-losses\"].isnull().sum())\n",
    "df.dtypes"
   ]
  },
  {
   "cell_type": "code",
   "execution_count": null,
   "id": "401203fe",
   "metadata": {},
   "outputs": [],
   "source": [
    "df[\"stroke\"].fillna(df[\"stroke\"].astype(\"float\").mean,inplace = True)\n",
    "print(\"Null-count:\",df[\"stroke\"].isnull().sum())\n",
    "df.dtypes"
   ]
  },
  {
   "cell_type": "code",
   "execution_count": null,
   "id": "0c5f21fb",
   "metadata": {},
   "outputs": [],
   "source": [
    "df[\"bore\"].fillna(df[\"bore\"].mean,inplace = True)\n",
    "print(\"Null-count:\",df[\"bore\"].isnull().sum())\n",
    "df.dtypes"
   ]
  },
  {
   "cell_type": "code",
   "execution_count": null,
   "id": "92bb0706",
   "metadata": {},
   "outputs": [],
   "source": [
    "df[\"horsepower\"].fillna(df[\"horsepower\"].mean,inplace = True)\n",
    "print(\"Null-count:\",df[\"horsepower\"].isnull().sum())\n",
    "df.dtypes"
   ]
  },
  {
   "cell_type": "code",
   "execution_count": null,
   "id": "2c1cfb97",
   "metadata": {},
   "outputs": [],
   "source": [
    "df[\"peak- rpm\"].fillna(df[\"peak- rpm\"].mean,inplace = True)\n",
    "print(\"Null-count:\",df[\"peak- rpm\"].isnull().sum())\n",
    "df.dtypes"
   ]
  },
  {
   "cell_type": "markdown",
   "id": "efe8447a",
   "metadata": {},
   "source": [
    "Number Of Door Are Object so fill with most frequent value"
   ]
  },
  {
   "cell_type": "code",
   "execution_count": null,
   "id": "c511aab1",
   "metadata": {},
   "outputs": [],
   "source": [
    "most_freq_door_type = df['num-of-doors'].value_counts().idxmax()\n",
    "most_freq_door_type"
   ]
  },
  {
   "cell_type": "code",
   "execution_count": null,
   "id": "5a75d643",
   "metadata": {},
   "outputs": [],
   "source": [
    "df[\"num-of-doors\"] = df[\"num-of-doors\"].fillna(most_freq_door_type)\n",
    "print(\"Null-count:\",df[\"num-of-doors\"].isnull().sum())\n",
    "df.dtypes"
   ]
  },
  {
   "cell_type": "markdown",
   "id": "568d32b2",
   "metadata": {},
   "source": [
    "As Price is Our Target Attribute so dorp the value"
   ]
  },
  {
   "cell_type": "code",
   "execution_count": null,
   "id": "7010da59",
   "metadata": {},
   "outputs": [],
   "source": [
    "# simply drop whole row with NaN in \"price\" column\n",
    "df.dropna(subset=[\"price\"], axis=0, inplace=True)\n",
    "\n",
    "# reset index, because we droped two rows\n",
    "df.reset_index(drop=True, inplace=True)"
   ]
  },
  {
   "cell_type": "code",
   "execution_count": null,
   "id": "7f3474d3",
   "metadata": {},
   "outputs": [],
   "source": [
    "df.isnull().sum()\n"
   ]
  },
  {
   "cell_type": "markdown",
   "id": "ec39403a",
   "metadata": {},
   "source": [
    "# Data Formating"
   ]
  },
  {
   "cell_type": "code",
   "execution_count": null,
   "id": "c0241977",
   "metadata": {},
   "outputs": [],
   "source": [
    "# Here city-mpg represent fule consumption of car in mile per gallon \n",
    "df[\"city-mpg\"].head()"
   ]
  },
  {
   "cell_type": "code",
   "execution_count": null,
   "id": "9e1ef2c1",
   "metadata": {},
   "outputs": [],
   "source": [
    "# We have to format this data in to kilometer per litter\n",
    "df[\"city-mpg\"] = 256/df[\"city-mpg\"]"
   ]
  },
  {
   "cell_type": "code",
   "execution_count": null,
   "id": "b61028de",
   "metadata": {},
   "outputs": [],
   "source": [
    "df[\"city-mpg\"].head()"
   ]
  },
  {
   "cell_type": "code",
   "execution_count": null,
   "id": "b44cf7a1",
   "metadata": {},
   "outputs": [],
   "source": [
    "# Rename the city-mpg --> city-l/100km\n",
    "df.rename(columns = {\"city-mpg\": \"city-l/100km\"},inplace = True)"
   ]
  },
  {
   "cell_type": "code",
   "execution_count": null,
   "id": "b1e0d9e0",
   "metadata": {},
   "outputs": [],
   "source": [
    "df.info()"
   ]
  },
  {
   "cell_type": "code",
   "execution_count": null,
   "id": "ec6061e1",
   "metadata": {},
   "outputs": [],
   "source": [
    "# here dtype of price is object that must be int64 \n",
    "# to convert we use astype(\"int64\")\n",
    "df[\"price\"] = df[\"price\"].astype(\"int64\")"
   ]
  },
  {
   "cell_type": "code",
   "execution_count": null,
   "id": "308902c3",
   "metadata": {},
   "outputs": [],
   "source": [
    "df[\"price\"].info()"
   ]
  },
  {
   "cell_type": "markdown",
   "id": "c9e9b7dd",
   "metadata": {},
   "source": [
    "# Data Normalization\n"
   ]
  },
  {
   "cell_type": "code",
   "execution_count": null,
   "id": "44890ae5",
   "metadata": {},
   "outputs": [],
   "source": [
    "column = [\"length\",\"height\",\"width\"]\n",
    "df[column].head()"
   ]
  },
  {
   "cell_type": "code",
   "execution_count": null,
   "id": "7233f40d",
   "metadata": {},
   "outputs": [],
   "source": [
    "# normalizing  lenght \n",
    "from sklearn.preprocessing import MinMaxScaler"
   ]
  },
  {
   "cell_type": "code",
   "execution_count": null,
   "id": "ae4e6a6a",
   "metadata": {},
   "outputs": [],
   "source": [
    "Scaler = MinMaxScaler()"
   ]
  },
  {
   "cell_type": "code",
   "execution_count": null,
   "id": "9e43dba9",
   "metadata": {},
   "outputs": [],
   "source": [
    "df[column] = Scaler.fit_transform(df[column])"
   ]
  },
  {
   "cell_type": "code",
   "execution_count": null,
   "id": "24657988",
   "metadata": {
    "scrolled": true
   },
   "outputs": [],
   "source": [
    "df[column].head()"
   ]
  },
  {
   "cell_type": "markdown",
   "id": "fb7ea89c",
   "metadata": {},
   "source": [
    "# Binning\n"
   ]
  },
  {
   "cell_type": "code",
   "execution_count": null,
   "id": "1e97b3a1",
   "metadata": {},
   "outputs": [],
   "source": [
    "df.dtypes"
   ]
  },
  {
   "cell_type": "code",
   "execution_count": null,
   "id": "38f1bf6c",
   "metadata": {},
   "outputs": [],
   "source": [
    "bins = np.linspace(df[\"horsepower\"].min(),df[\"horsepower\"].max(),4)\n",
    "bins"
   ]
  },
  {
   "cell_type": "code",
   "execution_count": null,
   "id": "6057c21c",
   "metadata": {},
   "outputs": [],
   "source": [
    "group_names = [\"Low\",\"Medium\",\"Hign\"]"
   ]
  },
  {
   "cell_type": "code",
   "execution_count": null,
   "id": "a076f7ba",
   "metadata": {},
   "outputs": [],
   "source": [
    "df[\"horsepower-binned\"] = pd.cut(df[\"horsepower\"],bins,labels = group_names,include_lowest = True)"
   ]
  },
  {
   "cell_type": "code",
   "execution_count": null,
   "id": "56460933",
   "metadata": {},
   "outputs": [],
   "source": [
    "df[[\"horsepower-binned\"]]"
   ]
  },
  {
   "cell_type": "code",
   "execution_count": null,
   "id": "43cc3487",
   "metadata": {},
   "outputs": [],
   "source": [
    "\n",
    "# Create a list of indices for the x-axis ticks\n",
    "indices = range(len(df[\"price-binned\"]))\n",
    "\n",
    "plt.bar(df[\"price-binned\"],indices)\n",
    "\n",
    "# Adding labels and title\n",
    "plt.ylabel(\"Index\")\n",
    "plt.xlabel(\"price-binned\")\n",
    "plt.title(\"Bar Chart\")\n",
    "\n",
    "plt.show()"
   ]
  },
  {
   "cell_type": "code",
   "execution_count": null,
   "id": "505cfab3",
   "metadata": {},
   "outputs": [],
   "source": [
    "df[[\"fuel-type\"]].head()"
   ]
  },
  {
   "cell_type": "code",
   "execution_count": null,
   "id": "f17cd4f9",
   "metadata": {},
   "outputs": [],
   "source": [
    "dummy_variable_1 = pd.get_dummies(df[\"fuel-type\"])\n",
    "dummy_variable_1.rename(columns={'gas':'fuel-type-gas', 'diesel':'fuel-type-diesel'}, inplace=True)\n"
   ]
  },
  {
   "cell_type": "code",
   "execution_count": null,
   "id": "53d7c368",
   "metadata": {},
   "outputs": [],
   "source": [
    "# merge data frame \"df\" and \"dummy_variable_1\" \n",
    "df = pd.concat([df, dummy_variable_1], axis=1)\n",
    "\n",
    "# drop original column \"fuel-type\" from \"df\"\n",
    "df.drop(\"fuel-type\", axis = 1, inplace=True)"
   ]
  },
  {
   "cell_type": "code",
   "execution_count": null,
   "id": "d1eb4fd0",
   "metadata": {},
   "outputs": [],
   "source": [
    "df[\"aspiration\"].value_counts()"
   ]
  },
  {
   "cell_type": "code",
   "execution_count": null,
   "id": "aa0d9efa",
   "metadata": {},
   "outputs": [],
   "source": [
    "dummy_variable_2 = pd.get_dummies(df[\"aspiration\"])\n",
    "dummy_variable_2.rename(columns={'std':'aspiration-type-std', 'turno':'aspiration-type-turbo'}, inplace=True)\n"
   ]
  },
  {
   "cell_type": "code",
   "execution_count": null,
   "id": "f7db2900",
   "metadata": {},
   "outputs": [],
   "source": [
    "# merge data frame \"df\" and \"dummy_variable_1\" \n",
    "df = pd.concat([df, dummy_variable_2], axis=1)\n",
    "\n",
    "# drop original column \"fuel-type\" from \"df\"\n",
    "df.drop(\"aspiration\", axis = 1, inplace=True)"
   ]
  },
  {
   "cell_type": "code",
   "execution_count": null,
   "id": "c6a12201",
   "metadata": {},
   "outputs": [],
   "source": []
  }
 ],
 "metadata": {
  "kernelspec": {
   "display_name": "Python 3 (ipykernel)",
   "language": "python",
   "name": "python3"
  },
  "language_info": {
   "codemirror_mode": {
    "name": "ipython",
    "version": 3
   },
   "file_extension": ".py",
   "mimetype": "text/x-python",
   "name": "python",
   "nbconvert_exporter": "python",
   "pygments_lexer": "ipython3",
   "version": "3.10.4"
  }
 },
 "nbformat": 4,
 "nbformat_minor": 5
}
