{
 "cells": [
  {
   "cell_type": "markdown",
   "metadata": {},
   "source": [
    "<p style=\"text-align:center\">\n",
    "    <a href=\"https://skills.network/?utm_medium=Exinfluencer&utm_source=Exinfluencer&utm_content=000026UJ&utm_term=10006555&utm_id=NA-SkillsNetwork-Channel-SkillsNetworkCoursesIBMDeveloperSkillsNetworkDA0101ENSkillsNetwork971-2022-01-01\" target=\"_blank\">\n",
    "    <img src=\"https://cf-courses-data.s3.us.cloud-object-storage.appdomain.cloud/assets/logos/SN_web_lightmode.png\" width=\"200\" alt=\"Skills Network Logo\"  />\n",
    "    </a>\n",
    "</p>\n",
    "\n",
    "\n",
    "# Data Analysis with Python\n",
    "\n",
    "\n",
    "Estimated time needed: **30** minutes\n",
    "    \n",
    "\n",
    "## Objectives\n",
    "\n",
    "After completing this lab you will be able to:\n",
    "\n",
    "* Explore features or charecteristics to predict price of car\n"
   ]
  },
  {
   "cell_type": "markdown",
   "metadata": {},
   "source": [
    "<h2>Table of Contents</h2>\n",
    "\n",
    "<div class=\"alert alert-block alert-info\" style=\"margin-top: 20px\">\n",
    "<ol>\n",
    "    <li><a href=\"#import_data\">Import Data from Module</a></li>\n",
    "    <li><a href=\"#pattern_visualization\">Analyzing Individual Feature Patterns using Visualization</a></li>\n",
    "    <li><a href=\"#discriptive_statistics\">Descriptive Statistical Analysis</a></li>\n",
    "    <li><a href=\"#basic_grouping\">Basics of Grouping</a></li>\n",
    "    <li><a href=\"#correlation_causation\">Correlation and Causation</a></li>\n",
    "    <li><a href=\"#anova\">ANOVA</a></li>\n",
    "</ol>\n",
    "\n",
    "</div>\n",
    " \n",
    "<hr>\n"
   ]
  },
  {
   "cell_type": "markdown",
   "metadata": {},
   "source": [
    "<h3>What are the main characteristics that have the most impact on the car price?</h3>\n"
   ]
  },
  {
   "cell_type": "markdown",
   "metadata": {},
   "source": [
    "<h2 id=\"import_data\">1. Import Data from Module 2</h2>\n"
   ]
  },
  {
   "cell_type": "markdown",
   "metadata": {},
   "source": [
    "<h4>Setup</h4>\n"
   ]
  },
  {
   "cell_type": "markdown",
   "metadata": {},
   "source": [
    "Import libraries: \n"
   ]
  },
  {
   "cell_type": "code",
   "execution_count": 1,
   "metadata": {},
   "outputs": [],
   "source": [
    "#install specific version of libraries used in lab\n",
    "#! mamba install pandas==1.3.3\n",
    "#! mamba install numpy=1.21.2\n",
    "#! mamba install scipy=1.7.1-y\n",
    "#!  mamba install seaborn=0.9.0-y"
   ]
  },
  {
   "cell_type": "code",
   "execution_count": 2,
   "metadata": {},
   "outputs": [],
   "source": [
    "import pandas as pd\n",
    "import numpy as np"
   ]
  },
  {
   "cell_type": "markdown",
   "metadata": {},
   "source": [
    "Load the data and store it in dataframe `df`:\n"
   ]
  },
  {
   "cell_type": "markdown",
   "metadata": {},
   "source": [
    "This dataset was hosted on IBM Cloud object. Click <a href=\"https://cocl.us/DA101EN_object_storage\">HERE</a> for free storage.\n"
   ]
  },
  {
   "cell_type": "code",
   "execution_count": 3,
   "metadata": {},
   "outputs": [
    {
     "data": {
      "text/html": [
       "<div>\n",
       "<style scoped>\n",
       "    .dataframe tbody tr th:only-of-type {\n",
       "        vertical-align: middle;\n",
       "    }\n",
       "\n",
       "    .dataframe tbody tr th {\n",
       "        vertical-align: top;\n",
       "    }\n",
       "\n",
       "    .dataframe thead th {\n",
       "        text-align: right;\n",
       "    }\n",
       "</style>\n",
       "<table border=\"1\" class=\"dataframe\">\n",
       "  <thead>\n",
       "    <tr style=\"text-align: right;\">\n",
       "      <th></th>\n",
       "      <th>Unnamed: 0</th>\n",
       "      <th>symboling</th>\n",
       "      <th>normalized-losses</th>\n",
       "      <th>make</th>\n",
       "      <th>num-of-doors</th>\n",
       "      <th>body-style</th>\n",
       "      <th>drive-wheels</th>\n",
       "      <th>engine-location</th>\n",
       "      <th>wheel-base</th>\n",
       "      <th>length</th>\n",
       "      <th>...</th>\n",
       "      <th>horsepower</th>\n",
       "      <th>peak- rpm</th>\n",
       "      <th>city-mpg</th>\n",
       "      <th>highway-mpg</th>\n",
       "      <th>price</th>\n",
       "      <th>horsepower-binned</th>\n",
       "      <th>fuel-type-diesel</th>\n",
       "      <th>fuel-type-gas</th>\n",
       "      <th>aspiration-type-std</th>\n",
       "      <th>turbo</th>\n",
       "    </tr>\n",
       "  </thead>\n",
       "  <tbody>\n",
       "    <tr>\n",
       "      <th>0</th>\n",
       "      <td>0</td>\n",
       "      <td>3</td>\n",
       "      <td>121.742331</td>\n",
       "      <td>alfa-romero</td>\n",
       "      <td>two</td>\n",
       "      <td>convertible</td>\n",
       "      <td>rwd</td>\n",
       "      <td>front</td>\n",
       "      <td>88.6</td>\n",
       "      <td>0.413433</td>\n",
       "      <td>...</td>\n",
       "      <td>111.0</td>\n",
       "      <td>5000.0</td>\n",
       "      <td>21</td>\n",
       "      <td>27</td>\n",
       "      <td>13495</td>\n",
       "      <td>Low</td>\n",
       "      <td>0</td>\n",
       "      <td>1</td>\n",
       "      <td>1</td>\n",
       "      <td>0</td>\n",
       "    </tr>\n",
       "    <tr>\n",
       "      <th>1</th>\n",
       "      <td>1</td>\n",
       "      <td>3</td>\n",
       "      <td>121.742331</td>\n",
       "      <td>alfa-romero</td>\n",
       "      <td>two</td>\n",
       "      <td>convertible</td>\n",
       "      <td>rwd</td>\n",
       "      <td>front</td>\n",
       "      <td>88.6</td>\n",
       "      <td>0.413433</td>\n",
       "      <td>...</td>\n",
       "      <td>111.0</td>\n",
       "      <td>5000.0</td>\n",
       "      <td>21</td>\n",
       "      <td>27</td>\n",
       "      <td>16500</td>\n",
       "      <td>Low</td>\n",
       "      <td>0</td>\n",
       "      <td>1</td>\n",
       "      <td>1</td>\n",
       "      <td>0</td>\n",
       "    </tr>\n",
       "    <tr>\n",
       "      <th>2</th>\n",
       "      <td>2</td>\n",
       "      <td>2</td>\n",
       "      <td>164.000000</td>\n",
       "      <td>audi</td>\n",
       "      <td>four</td>\n",
       "      <td>sedan</td>\n",
       "      <td>4wd</td>\n",
       "      <td>front</td>\n",
       "      <td>99.4</td>\n",
       "      <td>0.529851</td>\n",
       "      <td>...</td>\n",
       "      <td>115.0</td>\n",
       "      <td>5500.0</td>\n",
       "      <td>18</td>\n",
       "      <td>22</td>\n",
       "      <td>17450</td>\n",
       "      <td>Low</td>\n",
       "      <td>0</td>\n",
       "      <td>1</td>\n",
       "      <td>1</td>\n",
       "      <td>0</td>\n",
       "    </tr>\n",
       "    <tr>\n",
       "      <th>3</th>\n",
       "      <td>3</td>\n",
       "      <td>2</td>\n",
       "      <td>121.742331</td>\n",
       "      <td>audi</td>\n",
       "      <td>two</td>\n",
       "      <td>sedan</td>\n",
       "      <td>fwd</td>\n",
       "      <td>front</td>\n",
       "      <td>99.8</td>\n",
       "      <td>0.540299</td>\n",
       "      <td>...</td>\n",
       "      <td>110.0</td>\n",
       "      <td>5500.0</td>\n",
       "      <td>19</td>\n",
       "      <td>25</td>\n",
       "      <td>15250</td>\n",
       "      <td>Low</td>\n",
       "      <td>0</td>\n",
       "      <td>1</td>\n",
       "      <td>1</td>\n",
       "      <td>0</td>\n",
       "    </tr>\n",
       "    <tr>\n",
       "      <th>4</th>\n",
       "      <td>4</td>\n",
       "      <td>1</td>\n",
       "      <td>158.000000</td>\n",
       "      <td>audi</td>\n",
       "      <td>four</td>\n",
       "      <td>sedan</td>\n",
       "      <td>fwd</td>\n",
       "      <td>front</td>\n",
       "      <td>105.8</td>\n",
       "      <td>0.770149</td>\n",
       "      <td>...</td>\n",
       "      <td>110.0</td>\n",
       "      <td>5500.0</td>\n",
       "      <td>19</td>\n",
       "      <td>25</td>\n",
       "      <td>17710</td>\n",
       "      <td>Low</td>\n",
       "      <td>0</td>\n",
       "      <td>1</td>\n",
       "      <td>1</td>\n",
       "      <td>0</td>\n",
       "    </tr>\n",
       "  </tbody>\n",
       "</table>\n",
       "<p>5 rows × 30 columns</p>\n",
       "</div>"
      ],
      "text/plain": [
       "   Unnamed: 0  symboling  normalized-losses         make num-of-doors  \\\n",
       "0           0          3         121.742331  alfa-romero          two   \n",
       "1           1          3         121.742331  alfa-romero          two   \n",
       "2           2          2         164.000000         audi         four   \n",
       "3           3          2         121.742331         audi          two   \n",
       "4           4          1         158.000000         audi         four   \n",
       "\n",
       "    body-style drive-wheels engine-location  wheel-base    length  ...  \\\n",
       "0  convertible          rwd           front        88.6  0.413433  ...   \n",
       "1  convertible          rwd           front        88.6  0.413433  ...   \n",
       "2        sedan          4wd           front        99.4  0.529851  ...   \n",
       "3        sedan          fwd           front        99.8  0.540299  ...   \n",
       "4        sedan          fwd           front       105.8  0.770149  ...   \n",
       "\n",
       "   horsepower  peak- rpm  city-mpg highway-mpg  price  horsepower-binned  \\\n",
       "0       111.0     5000.0        21          27  13495                Low   \n",
       "1       111.0     5000.0        21          27  16500                Low   \n",
       "2       115.0     5500.0        18          22  17450                Low   \n",
       "3       110.0     5500.0        19          25  15250                Low   \n",
       "4       110.0     5500.0        19          25  17710                Low   \n",
       "\n",
       "  fuel-type-diesel  fuel-type-gas  aspiration-type-std  turbo  \n",
       "0                0              1                    1      0  \n",
       "1                0              1                    1      0  \n",
       "2                0              1                    1      0  \n",
       "3                0              1                    1      0  \n",
       "4                0              1                    1      0  \n",
       "\n",
       "[5 rows x 30 columns]"
      ]
     },
     "execution_count": 3,
     "metadata": {},
     "output_type": "execute_result"
    }
   ],
   "source": [
    "path = \"D:/IBM - Internship/Data Analysis Using Python/Automobile_Price_prediction/CAR_DATA/Car_clean_df.csv\"\n",
    "df = pd.read_csv(path)\n",
    "df.head()"
   ]
  },
  {
   "cell_type": "markdown",
   "metadata": {},
   "source": [
    "<h2 id=\"pattern_visualization\">2. Analyzing Individual Feature Patterns Using Visualization</h2>\n"
   ]
  },
  {
   "cell_type": "markdown",
   "metadata": {},
   "source": [
    "To install Seaborn we use pip, the Python package manager.\n"
   ]
  },
  {
   "cell_type": "markdown",
   "metadata": {},
   "source": [
    "Import visualization packages \"Matplotlib\" and \"Seaborn\". Don't forget about \"%matplotlib inline\" to plot in a Jupyter notebook.\n"
   ]
  },
  {
   "cell_type": "code",
   "execution_count": 4,
   "metadata": {},
   "outputs": [],
   "source": [
    "import matplotlib.pyplot as plt\n",
    "import seaborn as sns\n",
    "%matplotlib inline "
   ]
  },
  {
   "cell_type": "markdown",
   "metadata": {},
   "source": [
    "<h4>How to choose the right visualization method?</h4>\n",
    "<p>When visualizing individual variables, it is important to first understand what type of variable you are dealing with. This will help us find the right visualization method for that variable.</p>\n"
   ]
  },
  {
   "cell_type": "code",
   "execution_count": 5,
   "metadata": {},
   "outputs": [
    {
     "name": "stdout",
     "output_type": "stream",
     "text": [
      "Unnamed: 0               int64\n",
      "symboling                int64\n",
      "normalized-losses      float64\n",
      "make                    object\n",
      "num-of-doors            object\n",
      "body-style              object\n",
      "drive-wheels            object\n",
      "engine-location         object\n",
      "wheel-base             float64\n",
      "length                 float64\n",
      "width                  float64\n",
      "height                 float64\n",
      "curb-weight              int64\n",
      "engine-type             object\n",
      "num-of-cylinders        object\n",
      "engine-size              int64\n",
      "fuel-system             object\n",
      "bore                   float64\n",
      "stroke                 float64\n",
      "compression-ratio      float64\n",
      "horsepower             float64\n",
      "peak- rpm              float64\n",
      "city-mpg                 int64\n",
      "highway-mpg              int64\n",
      "price                    int64\n",
      "horsepower-binned       object\n",
      "fuel-type-diesel         int64\n",
      "fuel-type-gas            int64\n",
      "aspiration-type-std      int64\n",
      "turbo                    int64\n",
      "dtype: object\n"
     ]
    }
   ],
   "source": [
    "# list the data types for each column\n",
    "print(df.dtypes)"
   ]
  },
  {
   "cell_type": "markdown",
   "metadata": {},
   "source": [
    "<div class=\"alert alert-danger alertdanger\" style=\"margin-top: 20px\">\n",
    "<h3>Question  #1:</h3>\n",
    "\n",
    "<b>What is the data type of the column \"peak-rpm\"? </b>\n",
    "</div>\n"
   ]
  },
  {
   "cell_type": "code",
   "execution_count": 6,
   "metadata": {},
   "outputs": [],
   "source": [
    "# Write your code below and press Shift+Enter to execute \n"
   ]
  },
  {
   "cell_type": "markdown",
   "metadata": {},
   "source": [
    "<details><summary>Click here for the solution</summary>\n",
    "\n",
    "```python    \n",
    "float64\n",
    "```\n",
    "\n",
    "</details>\n"
   ]
  },
  {
   "cell_type": "markdown",
   "metadata": {},
   "source": [
    "For example, we can calculate the correlation between variables  of type \"int64\" or \"float64\" using the method \"corr\":\n"
   ]
  },
  {
   "cell_type": "code",
   "execution_count": 7,
   "metadata": {},
   "outputs": [
    {
     "data": {
      "text/html": [
       "<div>\n",
       "<style scoped>\n",
       "    .dataframe tbody tr th:only-of-type {\n",
       "        vertical-align: middle;\n",
       "    }\n",
       "\n",
       "    .dataframe tbody tr th {\n",
       "        vertical-align: top;\n",
       "    }\n",
       "\n",
       "    .dataframe thead th {\n",
       "        text-align: right;\n",
       "    }\n",
       "</style>\n",
       "<table border=\"1\" class=\"dataframe\">\n",
       "  <thead>\n",
       "    <tr style=\"text-align: right;\">\n",
       "      <th></th>\n",
       "      <th>Unnamed: 0</th>\n",
       "      <th>symboling</th>\n",
       "      <th>normalized-losses</th>\n",
       "      <th>wheel-base</th>\n",
       "      <th>length</th>\n",
       "      <th>width</th>\n",
       "      <th>height</th>\n",
       "      <th>curb-weight</th>\n",
       "      <th>engine-size</th>\n",
       "      <th>bore</th>\n",
       "      <th>...</th>\n",
       "      <th>compression-ratio</th>\n",
       "      <th>horsepower</th>\n",
       "      <th>peak- rpm</th>\n",
       "      <th>city-mpg</th>\n",
       "      <th>highway-mpg</th>\n",
       "      <th>price</th>\n",
       "      <th>fuel-type-diesel</th>\n",
       "      <th>fuel-type-gas</th>\n",
       "      <th>aspiration-type-std</th>\n",
       "      <th>turbo</th>\n",
       "    </tr>\n",
       "  </thead>\n",
       "  <tbody>\n",
       "    <tr>\n",
       "      <th>Unnamed: 0</th>\n",
       "      <td>1.000000</td>\n",
       "      <td>-0.155969</td>\n",
       "      <td>-0.234082</td>\n",
       "      <td>0.122285</td>\n",
       "      <td>0.163742</td>\n",
       "      <td>0.036611</td>\n",
       "      <td>0.252383</td>\n",
       "      <td>0.066718</td>\n",
       "      <td>-0.046979</td>\n",
       "      <td>0.226458</td>\n",
       "      <td>...</td>\n",
       "      <td>0.143550</td>\n",
       "      <td>-0.011449</td>\n",
       "      <td>-0.194346</td>\n",
       "      <td>0.018316</td>\n",
       "      <td>0.013678</td>\n",
       "      <td>-0.115596</td>\n",
       "      <td>0.117539</td>\n",
       "      <td>-0.117539</td>\n",
       "      <td>-0.075900</td>\n",
       "      <td>0.075900</td>\n",
       "    </tr>\n",
       "    <tr>\n",
       "      <th>symboling</th>\n",
       "      <td>-0.155969</td>\n",
       "      <td>1.000000</td>\n",
       "      <td>0.462930</td>\n",
       "      <td>-0.538178</td>\n",
       "      <td>-0.367041</td>\n",
       "      <td>-0.236506</td>\n",
       "      <td>-0.552509</td>\n",
       "      <td>-0.232263</td>\n",
       "      <td>-0.109371</td>\n",
       "      <td>-0.137923</td>\n",
       "      <td>...</td>\n",
       "      <td>-0.182252</td>\n",
       "      <td>0.075605</td>\n",
       "      <td>0.277277</td>\n",
       "      <td>-0.034196</td>\n",
       "      <td>0.037282</td>\n",
       "      <td>-0.083319</td>\n",
       "      <td>-0.195512</td>\n",
       "      <td>0.195512</td>\n",
       "      <td>0.052315</td>\n",
       "      <td>-0.052315</td>\n",
       "    </tr>\n",
       "    <tr>\n",
       "      <th>normalized-losses</th>\n",
       "      <td>-0.234082</td>\n",
       "      <td>0.462930</td>\n",
       "      <td>1.000000</td>\n",
       "      <td>-0.058775</td>\n",
       "      <td>0.017165</td>\n",
       "      <td>0.085451</td>\n",
       "      <td>-0.377131</td>\n",
       "      <td>0.101506</td>\n",
       "      <td>0.114438</td>\n",
       "      <td>-0.027458</td>\n",
       "      <td>...</td>\n",
       "      <td>-0.115028</td>\n",
       "      <td>0.218228</td>\n",
       "      <td>0.235979</td>\n",
       "      <td>-0.224197</td>\n",
       "      <td>-0.181093</td>\n",
       "      <td>0.132571</td>\n",
       "      <td>-0.100023</td>\n",
       "      <td>0.100023</td>\n",
       "      <td>0.004000</td>\n",
       "      <td>-0.004000</td>\n",
       "    </tr>\n",
       "    <tr>\n",
       "      <th>wheel-base</th>\n",
       "      <td>0.122285</td>\n",
       "      <td>-0.538178</td>\n",
       "      <td>-0.058775</td>\n",
       "      <td>1.000000</td>\n",
       "      <td>0.876376</td>\n",
       "      <td>0.809109</td>\n",
       "      <td>0.589893</td>\n",
       "      <td>0.786197</td>\n",
       "      <td>0.576084</td>\n",
       "      <td>0.493235</td>\n",
       "      <td>...</td>\n",
       "      <td>0.249698</td>\n",
       "      <td>0.378267</td>\n",
       "      <td>-0.362936</td>\n",
       "      <td>-0.475657</td>\n",
       "      <td>-0.547058</td>\n",
       "      <td>0.587085</td>\n",
       "      <td>0.306906</td>\n",
       "      <td>-0.306906</td>\n",
       "      <td>-0.256232</td>\n",
       "      <td>0.256232</td>\n",
       "    </tr>\n",
       "    <tr>\n",
       "      <th>length</th>\n",
       "      <td>0.163742</td>\n",
       "      <td>-0.367041</td>\n",
       "      <td>0.017165</td>\n",
       "      <td>0.876376</td>\n",
       "      <td>1.000000</td>\n",
       "      <td>0.856795</td>\n",
       "      <td>0.491732</td>\n",
       "      <td>0.882905</td>\n",
       "      <td>0.687294</td>\n",
       "      <td>0.616190</td>\n",
       "      <td>...</td>\n",
       "      <td>0.159492</td>\n",
       "      <td>0.584325</td>\n",
       "      <td>-0.287632</td>\n",
       "      <td>-0.667963</td>\n",
       "      <td>-0.699903</td>\n",
       "      <td>0.691525</td>\n",
       "      <td>0.211274</td>\n",
       "      <td>-0.211274</td>\n",
       "      <td>-0.230278</td>\n",
       "      <td>0.230278</td>\n",
       "    </tr>\n",
       "    <tr>\n",
       "      <th>width</th>\n",
       "      <td>0.036611</td>\n",
       "      <td>-0.236506</td>\n",
       "      <td>0.085451</td>\n",
       "      <td>0.809109</td>\n",
       "      <td>0.856795</td>\n",
       "      <td>1.000000</td>\n",
       "      <td>0.297394</td>\n",
       "      <td>0.869606</td>\n",
       "      <td>0.733091</td>\n",
       "      <td>0.554939</td>\n",
       "      <td>...</td>\n",
       "      <td>0.188775</td>\n",
       "      <td>0.621333</td>\n",
       "      <td>-0.248603</td>\n",
       "      <td>-0.639925</td>\n",
       "      <td>-0.685733</td>\n",
       "      <td>0.753570</td>\n",
       "      <td>0.243458</td>\n",
       "      <td>-0.243458</td>\n",
       "      <td>-0.304541</td>\n",
       "      <td>0.304541</td>\n",
       "    </tr>\n",
       "    <tr>\n",
       "      <th>height</th>\n",
       "      <td>0.252383</td>\n",
       "      <td>-0.552509</td>\n",
       "      <td>-0.377131</td>\n",
       "      <td>0.589893</td>\n",
       "      <td>0.491732</td>\n",
       "      <td>0.297394</td>\n",
       "      <td>1.000000</td>\n",
       "      <td>0.310109</td>\n",
       "      <td>0.077028</td>\n",
       "      <td>0.176636</td>\n",
       "      <td>...</td>\n",
       "      <td>0.259257</td>\n",
       "      <td>-0.083632</td>\n",
       "      <td>-0.312347</td>\n",
       "      <td>-0.052469</td>\n",
       "      <td>-0.106855</td>\n",
       "      <td>0.136731</td>\n",
       "      <td>0.281418</td>\n",
       "      <td>-0.281418</td>\n",
       "      <td>-0.089714</td>\n",
       "      <td>0.089714</td>\n",
       "    </tr>\n",
       "    <tr>\n",
       "      <th>curb-weight</th>\n",
       "      <td>0.066718</td>\n",
       "      <td>-0.232263</td>\n",
       "      <td>0.101506</td>\n",
       "      <td>0.786197</td>\n",
       "      <td>0.882905</td>\n",
       "      <td>0.869606</td>\n",
       "      <td>0.310109</td>\n",
       "      <td>1.000000</td>\n",
       "      <td>0.848714</td>\n",
       "      <td>0.660207</td>\n",
       "      <td>...</td>\n",
       "      <td>0.157307</td>\n",
       "      <td>0.758747</td>\n",
       "      <td>-0.277831</td>\n",
       "      <td>-0.750090</td>\n",
       "      <td>-0.795176</td>\n",
       "      <td>0.834850</td>\n",
       "      <td>0.221573</td>\n",
       "      <td>-0.221573</td>\n",
       "      <td>-0.322891</td>\n",
       "      <td>0.322891</td>\n",
       "    </tr>\n",
       "    <tr>\n",
       "      <th>engine-size</th>\n",
       "      <td>-0.046979</td>\n",
       "      <td>-0.109371</td>\n",
       "      <td>0.114438</td>\n",
       "      <td>0.576084</td>\n",
       "      <td>0.687294</td>\n",
       "      <td>0.733091</td>\n",
       "      <td>0.077028</td>\n",
       "      <td>0.848714</td>\n",
       "      <td>1.000000</td>\n",
       "      <td>0.588455</td>\n",
       "      <td>...</td>\n",
       "      <td>0.029728</td>\n",
       "      <td>0.823422</td>\n",
       "      <td>-0.255073</td>\n",
       "      <td>-0.650494</td>\n",
       "      <td>-0.679467</td>\n",
       "      <td>0.872880</td>\n",
       "      <td>0.071209</td>\n",
       "      <td>-0.071209</td>\n",
       "      <td>-0.110724</td>\n",
       "      <td>0.110724</td>\n",
       "    </tr>\n",
       "    <tr>\n",
       "      <th>bore</th>\n",
       "      <td>0.226458</td>\n",
       "      <td>-0.137923</td>\n",
       "      <td>-0.027458</td>\n",
       "      <td>0.493235</td>\n",
       "      <td>0.616190</td>\n",
       "      <td>0.554939</td>\n",
       "      <td>0.176636</td>\n",
       "      <td>0.660207</td>\n",
       "      <td>0.588455</td>\n",
       "      <td>1.000000</td>\n",
       "      <td>...</td>\n",
       "      <td>-0.002494</td>\n",
       "      <td>0.595417</td>\n",
       "      <td>-0.272439</td>\n",
       "      <td>-0.605579</td>\n",
       "      <td>-0.610602</td>\n",
       "      <td>0.557436</td>\n",
       "      <td>0.050229</td>\n",
       "      <td>-0.050229</td>\n",
       "      <td>-0.224486</td>\n",
       "      <td>0.224486</td>\n",
       "    </tr>\n",
       "    <tr>\n",
       "      <th>stroke</th>\n",
       "      <td>-0.157235</td>\n",
       "      <td>-0.011127</td>\n",
       "      <td>0.052370</td>\n",
       "      <td>0.161094</td>\n",
       "      <td>0.124809</td>\n",
       "      <td>0.181923</td>\n",
       "      <td>-0.061224</td>\n",
       "      <td>0.167270</td>\n",
       "      <td>0.209231</td>\n",
       "      <td>-0.046741</td>\n",
       "      <td>...</td>\n",
       "      <td>0.189386</td>\n",
       "      <td>0.094384</td>\n",
       "      <td>-0.067269</td>\n",
       "      <td>-0.030916</td>\n",
       "      <td>-0.032564</td>\n",
       "      <td>0.080860</td>\n",
       "      <td>0.243779</td>\n",
       "      <td>-0.243779</td>\n",
       "      <td>-0.222011</td>\n",
       "      <td>0.222011</td>\n",
       "    </tr>\n",
       "    <tr>\n",
       "      <th>compression-ratio</th>\n",
       "      <td>0.143550</td>\n",
       "      <td>-0.182252</td>\n",
       "      <td>-0.115028</td>\n",
       "      <td>0.249698</td>\n",
       "      <td>0.159492</td>\n",
       "      <td>0.188775</td>\n",
       "      <td>0.259257</td>\n",
       "      <td>0.157307</td>\n",
       "      <td>0.029728</td>\n",
       "      <td>-0.002494</td>\n",
       "      <td>...</td>\n",
       "      <td>1.000000</td>\n",
       "      <td>-0.213552</td>\n",
       "      <td>-0.436821</td>\n",
       "      <td>0.330851</td>\n",
       "      <td>0.267822</td>\n",
       "      <td>0.071781</td>\n",
       "      <td>0.985437</td>\n",
       "      <td>-0.985437</td>\n",
       "      <td>-0.307145</td>\n",
       "      <td>0.307145</td>\n",
       "    </tr>\n",
       "    <tr>\n",
       "      <th>horsepower</th>\n",
       "      <td>-0.011449</td>\n",
       "      <td>0.075605</td>\n",
       "      <td>0.218228</td>\n",
       "      <td>0.378267</td>\n",
       "      <td>0.584325</td>\n",
       "      <td>0.621333</td>\n",
       "      <td>-0.083632</td>\n",
       "      <td>0.758747</td>\n",
       "      <td>0.823422</td>\n",
       "      <td>0.595417</td>\n",
       "      <td>...</td>\n",
       "      <td>-0.213552</td>\n",
       "      <td>1.000000</td>\n",
       "      <td>0.110384</td>\n",
       "      <td>-0.821449</td>\n",
       "      <td>-0.804607</td>\n",
       "      <td>0.810913</td>\n",
       "      <td>-0.167695</td>\n",
       "      <td>0.167695</td>\n",
       "      <td>-0.255715</td>\n",
       "      <td>0.255715</td>\n",
       "    </tr>\n",
       "    <tr>\n",
       "      <th>peak- rpm</th>\n",
       "      <td>-0.194346</td>\n",
       "      <td>0.277277</td>\n",
       "      <td>0.235979</td>\n",
       "      <td>-0.362936</td>\n",
       "      <td>-0.287632</td>\n",
       "      <td>-0.248603</td>\n",
       "      <td>-0.312347</td>\n",
       "      <td>-0.277831</td>\n",
       "      <td>-0.255073</td>\n",
       "      <td>-0.272439</td>\n",
       "      <td>...</td>\n",
       "      <td>-0.436821</td>\n",
       "      <td>0.110384</td>\n",
       "      <td>1.000000</td>\n",
       "      <td>-0.116323</td>\n",
       "      <td>-0.059207</td>\n",
       "      <td>-0.101700</td>\n",
       "      <td>-0.475976</td>\n",
       "      <td>0.475976</td>\n",
       "      <td>0.189282</td>\n",
       "      <td>-0.189282</td>\n",
       "    </tr>\n",
       "    <tr>\n",
       "      <th>city-mpg</th>\n",
       "      <td>0.018316</td>\n",
       "      <td>-0.034196</td>\n",
       "      <td>-0.224197</td>\n",
       "      <td>-0.475657</td>\n",
       "      <td>-0.667963</td>\n",
       "      <td>-0.639925</td>\n",
       "      <td>-0.052469</td>\n",
       "      <td>-0.750090</td>\n",
       "      <td>-0.650494</td>\n",
       "      <td>-0.605579</td>\n",
       "      <td>...</td>\n",
       "      <td>0.330851</td>\n",
       "      <td>-0.821449</td>\n",
       "      <td>-0.116323</td>\n",
       "      <td>1.000000</td>\n",
       "      <td>0.972150</td>\n",
       "      <td>-0.686448</td>\n",
       "      <td>0.264543</td>\n",
       "      <td>-0.264543</td>\n",
       "      <td>0.192609</td>\n",
       "      <td>-0.192609</td>\n",
       "    </tr>\n",
       "    <tr>\n",
       "      <th>highway-mpg</th>\n",
       "      <td>0.013678</td>\n",
       "      <td>0.037282</td>\n",
       "      <td>-0.181093</td>\n",
       "      <td>-0.547058</td>\n",
       "      <td>-0.699903</td>\n",
       "      <td>-0.685733</td>\n",
       "      <td>-0.106855</td>\n",
       "      <td>-0.795176</td>\n",
       "      <td>-0.679467</td>\n",
       "      <td>-0.610602</td>\n",
       "      <td>...</td>\n",
       "      <td>0.267822</td>\n",
       "      <td>-0.804607</td>\n",
       "      <td>-0.059207</td>\n",
       "      <td>0.972150</td>\n",
       "      <td>1.000000</td>\n",
       "      <td>-0.704387</td>\n",
       "      <td>0.197720</td>\n",
       "      <td>-0.197720</td>\n",
       "      <td>0.244271</td>\n",
       "      <td>-0.244271</td>\n",
       "    </tr>\n",
       "    <tr>\n",
       "      <th>price</th>\n",
       "      <td>-0.115596</td>\n",
       "      <td>-0.083319</td>\n",
       "      <td>0.132571</td>\n",
       "      <td>0.587085</td>\n",
       "      <td>0.691525</td>\n",
       "      <td>0.753570</td>\n",
       "      <td>0.136731</td>\n",
       "      <td>0.834850</td>\n",
       "      <td>0.872880</td>\n",
       "      <td>0.557436</td>\n",
       "      <td>...</td>\n",
       "      <td>0.071781</td>\n",
       "      <td>0.810913</td>\n",
       "      <td>-0.101700</td>\n",
       "      <td>-0.686448</td>\n",
       "      <td>-0.704387</td>\n",
       "      <td>1.000000</td>\n",
       "      <td>0.111288</td>\n",
       "      <td>-0.111288</td>\n",
       "      <td>-0.181054</td>\n",
       "      <td>0.181054</td>\n",
       "    </tr>\n",
       "    <tr>\n",
       "      <th>fuel-type-diesel</th>\n",
       "      <td>0.117539</td>\n",
       "      <td>-0.195512</td>\n",
       "      <td>-0.100023</td>\n",
       "      <td>0.306906</td>\n",
       "      <td>0.211274</td>\n",
       "      <td>0.243458</td>\n",
       "      <td>0.281418</td>\n",
       "      <td>0.221573</td>\n",
       "      <td>0.071209</td>\n",
       "      <td>0.050229</td>\n",
       "      <td>...</td>\n",
       "      <td>0.985437</td>\n",
       "      <td>-0.167695</td>\n",
       "      <td>-0.475976</td>\n",
       "      <td>0.264543</td>\n",
       "      <td>0.197720</td>\n",
       "      <td>0.111288</td>\n",
       "      <td>1.000000</td>\n",
       "      <td>-1.000000</td>\n",
       "      <td>-0.407341</td>\n",
       "      <td>0.407341</td>\n",
       "    </tr>\n",
       "    <tr>\n",
       "      <th>fuel-type-gas</th>\n",
       "      <td>-0.117539</td>\n",
       "      <td>0.195512</td>\n",
       "      <td>0.100023</td>\n",
       "      <td>-0.306906</td>\n",
       "      <td>-0.211274</td>\n",
       "      <td>-0.243458</td>\n",
       "      <td>-0.281418</td>\n",
       "      <td>-0.221573</td>\n",
       "      <td>-0.071209</td>\n",
       "      <td>-0.050229</td>\n",
       "      <td>...</td>\n",
       "      <td>-0.985437</td>\n",
       "      <td>0.167695</td>\n",
       "      <td>0.475976</td>\n",
       "      <td>-0.264543</td>\n",
       "      <td>-0.197720</td>\n",
       "      <td>-0.111288</td>\n",
       "      <td>-1.000000</td>\n",
       "      <td>1.000000</td>\n",
       "      <td>0.407341</td>\n",
       "      <td>-0.407341</td>\n",
       "    </tr>\n",
       "    <tr>\n",
       "      <th>aspiration-type-std</th>\n",
       "      <td>-0.075900</td>\n",
       "      <td>0.052315</td>\n",
       "      <td>0.004000</td>\n",
       "      <td>-0.256232</td>\n",
       "      <td>-0.230278</td>\n",
       "      <td>-0.304541</td>\n",
       "      <td>-0.089714</td>\n",
       "      <td>-0.322891</td>\n",
       "      <td>-0.110724</td>\n",
       "      <td>-0.224486</td>\n",
       "      <td>...</td>\n",
       "      <td>-0.307145</td>\n",
       "      <td>-0.255715</td>\n",
       "      <td>0.189282</td>\n",
       "      <td>0.192609</td>\n",
       "      <td>0.244271</td>\n",
       "      <td>-0.181054</td>\n",
       "      <td>-0.407341</td>\n",
       "      <td>0.407341</td>\n",
       "      <td>1.000000</td>\n",
       "      <td>-1.000000</td>\n",
       "    </tr>\n",
       "    <tr>\n",
       "      <th>turbo</th>\n",
       "      <td>0.075900</td>\n",
       "      <td>-0.052315</td>\n",
       "      <td>-0.004000</td>\n",
       "      <td>0.256232</td>\n",
       "      <td>0.230278</td>\n",
       "      <td>0.304541</td>\n",
       "      <td>0.089714</td>\n",
       "      <td>0.322891</td>\n",
       "      <td>0.110724</td>\n",
       "      <td>0.224486</td>\n",
       "      <td>...</td>\n",
       "      <td>0.307145</td>\n",
       "      <td>0.255715</td>\n",
       "      <td>-0.189282</td>\n",
       "      <td>-0.192609</td>\n",
       "      <td>-0.244271</td>\n",
       "      <td>0.181054</td>\n",
       "      <td>0.407341</td>\n",
       "      <td>-0.407341</td>\n",
       "      <td>-1.000000</td>\n",
       "      <td>1.000000</td>\n",
       "    </tr>\n",
       "  </tbody>\n",
       "</table>\n",
       "<p>21 rows × 21 columns</p>\n",
       "</div>"
      ],
      "text/plain": [
       "                     Unnamed: 0  symboling  normalized-losses  wheel-base  \\\n",
       "Unnamed: 0             1.000000  -0.155969          -0.234082    0.122285   \n",
       "symboling             -0.155969   1.000000           0.462930   -0.538178   \n",
       "normalized-losses     -0.234082   0.462930           1.000000   -0.058775   \n",
       "wheel-base             0.122285  -0.538178          -0.058775    1.000000   \n",
       "length                 0.163742  -0.367041           0.017165    0.876376   \n",
       "width                  0.036611  -0.236506           0.085451    0.809109   \n",
       "height                 0.252383  -0.552509          -0.377131    0.589893   \n",
       "curb-weight            0.066718  -0.232263           0.101506    0.786197   \n",
       "engine-size           -0.046979  -0.109371           0.114438    0.576084   \n",
       "bore                   0.226458  -0.137923          -0.027458    0.493235   \n",
       "stroke                -0.157235  -0.011127           0.052370    0.161094   \n",
       "compression-ratio      0.143550  -0.182252          -0.115028    0.249698   \n",
       "horsepower            -0.011449   0.075605           0.218228    0.378267   \n",
       "peak- rpm             -0.194346   0.277277           0.235979   -0.362936   \n",
       "city-mpg               0.018316  -0.034196          -0.224197   -0.475657   \n",
       "highway-mpg            0.013678   0.037282          -0.181093   -0.547058   \n",
       "price                 -0.115596  -0.083319           0.132571    0.587085   \n",
       "fuel-type-diesel       0.117539  -0.195512          -0.100023    0.306906   \n",
       "fuel-type-gas         -0.117539   0.195512           0.100023   -0.306906   \n",
       "aspiration-type-std   -0.075900   0.052315           0.004000   -0.256232   \n",
       "turbo                  0.075900  -0.052315          -0.004000    0.256232   \n",
       "\n",
       "                       length     width    height  curb-weight  engine-size  \\\n",
       "Unnamed: 0           0.163742  0.036611  0.252383     0.066718    -0.046979   \n",
       "symboling           -0.367041 -0.236506 -0.552509    -0.232263    -0.109371   \n",
       "normalized-losses    0.017165  0.085451 -0.377131     0.101506     0.114438   \n",
       "wheel-base           0.876376  0.809109  0.589893     0.786197     0.576084   \n",
       "length               1.000000  0.856795  0.491732     0.882905     0.687294   \n",
       "width                0.856795  1.000000  0.297394     0.869606     0.733091   \n",
       "height               0.491732  0.297394  1.000000     0.310109     0.077028   \n",
       "curb-weight          0.882905  0.869606  0.310109     1.000000     0.848714   \n",
       "engine-size          0.687294  0.733091  0.077028     0.848714     1.000000   \n",
       "bore                 0.616190  0.554939  0.176636     0.660207     0.588455   \n",
       "stroke               0.124809  0.181923 -0.061224     0.167270     0.209231   \n",
       "compression-ratio    0.159492  0.188775  0.259257     0.157307     0.029728   \n",
       "horsepower           0.584325  0.621333 -0.083632     0.758747     0.823422   \n",
       "peak- rpm           -0.287632 -0.248603 -0.312347    -0.277831    -0.255073   \n",
       "city-mpg            -0.667963 -0.639925 -0.052469    -0.750090    -0.650494   \n",
       "highway-mpg         -0.699903 -0.685733 -0.106855    -0.795176    -0.679467   \n",
       "price                0.691525  0.753570  0.136731     0.834850     0.872880   \n",
       "fuel-type-diesel     0.211274  0.243458  0.281418     0.221573     0.071209   \n",
       "fuel-type-gas       -0.211274 -0.243458 -0.281418    -0.221573    -0.071209   \n",
       "aspiration-type-std -0.230278 -0.304541 -0.089714    -0.322891    -0.110724   \n",
       "turbo                0.230278  0.304541  0.089714     0.322891     0.110724   \n",
       "\n",
       "                         bore  ...  compression-ratio  horsepower  peak- rpm  \\\n",
       "Unnamed: 0           0.226458  ...           0.143550   -0.011449  -0.194346   \n",
       "symboling           -0.137923  ...          -0.182252    0.075605   0.277277   \n",
       "normalized-losses   -0.027458  ...          -0.115028    0.218228   0.235979   \n",
       "wheel-base           0.493235  ...           0.249698    0.378267  -0.362936   \n",
       "length               0.616190  ...           0.159492    0.584325  -0.287632   \n",
       "width                0.554939  ...           0.188775    0.621333  -0.248603   \n",
       "height               0.176636  ...           0.259257   -0.083632  -0.312347   \n",
       "curb-weight          0.660207  ...           0.157307    0.758747  -0.277831   \n",
       "engine-size          0.588455  ...           0.029728    0.823422  -0.255073   \n",
       "bore                 1.000000  ...          -0.002494    0.595417  -0.272439   \n",
       "stroke              -0.046741  ...           0.189386    0.094384  -0.067269   \n",
       "compression-ratio   -0.002494  ...           1.000000   -0.213552  -0.436821   \n",
       "horsepower           0.595417  ...          -0.213552    1.000000   0.110384   \n",
       "peak- rpm           -0.272439  ...          -0.436821    0.110384   1.000000   \n",
       "city-mpg            -0.605579  ...           0.330851   -0.821449  -0.116323   \n",
       "highway-mpg         -0.610602  ...           0.267822   -0.804607  -0.059207   \n",
       "price                0.557436  ...           0.071781    0.810913  -0.101700   \n",
       "fuel-type-diesel     0.050229  ...           0.985437   -0.167695  -0.475976   \n",
       "fuel-type-gas       -0.050229  ...          -0.985437    0.167695   0.475976   \n",
       "aspiration-type-std -0.224486  ...          -0.307145   -0.255715   0.189282   \n",
       "turbo                0.224486  ...           0.307145    0.255715  -0.189282   \n",
       "\n",
       "                     city-mpg  highway-mpg     price  fuel-type-diesel  \\\n",
       "Unnamed: 0           0.018316     0.013678 -0.115596          0.117539   \n",
       "symboling           -0.034196     0.037282 -0.083319         -0.195512   \n",
       "normalized-losses   -0.224197    -0.181093  0.132571         -0.100023   \n",
       "wheel-base          -0.475657    -0.547058  0.587085          0.306906   \n",
       "length              -0.667963    -0.699903  0.691525          0.211274   \n",
       "width               -0.639925    -0.685733  0.753570          0.243458   \n",
       "height              -0.052469    -0.106855  0.136731          0.281418   \n",
       "curb-weight         -0.750090    -0.795176  0.834850          0.221573   \n",
       "engine-size         -0.650494    -0.679467  0.872880          0.071209   \n",
       "bore                -0.605579    -0.610602  0.557436          0.050229   \n",
       "stroke              -0.030916    -0.032564  0.080860          0.243779   \n",
       "compression-ratio    0.330851     0.267822  0.071781          0.985437   \n",
       "horsepower          -0.821449    -0.804607  0.810913         -0.167695   \n",
       "peak- rpm           -0.116323    -0.059207 -0.101700         -0.475976   \n",
       "city-mpg             1.000000     0.972150 -0.686448          0.264543   \n",
       "highway-mpg          0.972150     1.000000 -0.704387          0.197720   \n",
       "price               -0.686448    -0.704387  1.000000          0.111288   \n",
       "fuel-type-diesel     0.264543     0.197720  0.111288          1.000000   \n",
       "fuel-type-gas       -0.264543    -0.197720 -0.111288         -1.000000   \n",
       "aspiration-type-std  0.192609     0.244271 -0.181054         -0.407341   \n",
       "turbo               -0.192609    -0.244271  0.181054          0.407341   \n",
       "\n",
       "                     fuel-type-gas  aspiration-type-std     turbo  \n",
       "Unnamed: 0               -0.117539            -0.075900  0.075900  \n",
       "symboling                 0.195512             0.052315 -0.052315  \n",
       "normalized-losses         0.100023             0.004000 -0.004000  \n",
       "wheel-base               -0.306906            -0.256232  0.256232  \n",
       "length                   -0.211274            -0.230278  0.230278  \n",
       "width                    -0.243458            -0.304541  0.304541  \n",
       "height                   -0.281418            -0.089714  0.089714  \n",
       "curb-weight              -0.221573            -0.322891  0.322891  \n",
       "engine-size              -0.071209            -0.110724  0.110724  \n",
       "bore                     -0.050229            -0.224486  0.224486  \n",
       "stroke                   -0.243779            -0.222011  0.222011  \n",
       "compression-ratio        -0.985437            -0.307145  0.307145  \n",
       "horsepower                0.167695            -0.255715  0.255715  \n",
       "peak- rpm                 0.475976             0.189282 -0.189282  \n",
       "city-mpg                 -0.264543             0.192609 -0.192609  \n",
       "highway-mpg              -0.197720             0.244271 -0.244271  \n",
       "price                    -0.111288            -0.181054  0.181054  \n",
       "fuel-type-diesel         -1.000000            -0.407341  0.407341  \n",
       "fuel-type-gas             1.000000             0.407341 -0.407341  \n",
       "aspiration-type-std       0.407341             1.000000 -1.000000  \n",
       "turbo                    -0.407341            -1.000000  1.000000  \n",
       "\n",
       "[21 rows x 21 columns]"
      ]
     },
     "execution_count": 7,
     "metadata": {},
     "output_type": "execute_result"
    }
   ],
   "source": [
    "df.corr()"
   ]
  },
  {
   "cell_type": "markdown",
   "metadata": {},
   "source": [
    "The diagonal elements are always one; we will study correlation more precisely Pearson correlation in-depth at the end of the notebook.\n"
   ]
  },
  {
   "cell_type": "markdown",
   "metadata": {},
   "source": [
    "<div class=\"alert alert-danger alertdanger\" style=\"margin-top: 20px\">\n",
    "<h3> Question  #2: </h3>\n",
    "\n",
    "<p>Find the correlation between the following columns: bore, stroke, compression-ratio, and horsepower.</p>\n",
    "<p>Hint: if you would like to select those columns, use the following syntax: df[['bore','stroke','compression-ratio','horsepower']]</p>\n",
    "</div>\n"
   ]
  },
  {
   "cell_type": "code",
   "execution_count": 8,
   "metadata": {},
   "outputs": [
    {
     "data": {
      "text/html": [
       "<div>\n",
       "<style scoped>\n",
       "    .dataframe tbody tr th:only-of-type {\n",
       "        vertical-align: middle;\n",
       "    }\n",
       "\n",
       "    .dataframe tbody tr th {\n",
       "        vertical-align: top;\n",
       "    }\n",
       "\n",
       "    .dataframe thead th {\n",
       "        text-align: right;\n",
       "    }\n",
       "</style>\n",
       "<table border=\"1\" class=\"dataframe\">\n",
       "  <thead>\n",
       "    <tr style=\"text-align: right;\">\n",
       "      <th></th>\n",
       "      <th>bore</th>\n",
       "      <th>stroke</th>\n",
       "      <th>compression-ratio</th>\n",
       "      <th>horsepower</th>\n",
       "    </tr>\n",
       "  </thead>\n",
       "  <tbody>\n",
       "    <tr>\n",
       "      <th>bore</th>\n",
       "      <td>1.000000</td>\n",
       "      <td>-0.046741</td>\n",
       "      <td>-0.002494</td>\n",
       "      <td>0.595417</td>\n",
       "    </tr>\n",
       "    <tr>\n",
       "      <th>stroke</th>\n",
       "      <td>-0.046741</td>\n",
       "      <td>1.000000</td>\n",
       "      <td>0.189386</td>\n",
       "      <td>0.094384</td>\n",
       "    </tr>\n",
       "    <tr>\n",
       "      <th>compression-ratio</th>\n",
       "      <td>-0.002494</td>\n",
       "      <td>0.189386</td>\n",
       "      <td>1.000000</td>\n",
       "      <td>-0.213552</td>\n",
       "    </tr>\n",
       "    <tr>\n",
       "      <th>horsepower</th>\n",
       "      <td>0.595417</td>\n",
       "      <td>0.094384</td>\n",
       "      <td>-0.213552</td>\n",
       "      <td>1.000000</td>\n",
       "    </tr>\n",
       "  </tbody>\n",
       "</table>\n",
       "</div>"
      ],
      "text/plain": [
       "                       bore    stroke  compression-ratio  horsepower\n",
       "bore               1.000000 -0.046741          -0.002494    0.595417\n",
       "stroke            -0.046741  1.000000           0.189386    0.094384\n",
       "compression-ratio -0.002494  0.189386           1.000000   -0.213552\n",
       "horsepower         0.595417  0.094384          -0.213552    1.000000"
      ]
     },
     "execution_count": 8,
     "metadata": {},
     "output_type": "execute_result"
    }
   ],
   "source": [
    "# Write your code below and press Shift+Enter to execute \n",
    "df[['bore','stroke','compression-ratio','horsepower']].corr()"
   ]
  },
  {
   "cell_type": "markdown",
   "metadata": {},
   "source": [
    "<details><summary>Click here for the solution</summary>\n",
    "\n",
    "```python\n",
    "df[['bore', 'stroke', 'compression-ratio', 'horsepower']].corr()\n",
    "```\n",
    "\n",
    "</details>\n"
   ]
  },
  {
   "cell_type": "markdown",
   "metadata": {},
   "source": [
    "<h2>Continuous Numerical Variables:</h2> \n",
    "\n",
    "<p>Continuous numerical variables are variables that may contain any value within some range. They can be of type \"int64\" or \"float64\". A great way to visualize these variables is by using scatterplots with fitted lines.</p>\n",
    "\n",
    "<p>In order to start understanding the (linear) relationship between an individual variable and the price, we can use \"regplot\" which plots the scatterplot plus the fitted regression line for the data. This will be useful later on for visualizing the fit of the simple linear regression model as well. </p>\n"
   ]
  },
  {
   "cell_type": "markdown",
   "metadata": {},
   "source": [
    " Let's see several examples of different linear relationships:\n"
   ]
  },
  {
   "cell_type": "markdown",
   "metadata": {},
   "source": [
    "<h3>Positive Linear Relationship</h4>\n"
   ]
  },
  {
   "cell_type": "markdown",
   "metadata": {},
   "source": [
    "Let's find the scatterplot of \"engine-size\" and \"price\".\n"
   ]
  },
  {
   "cell_type": "code",
   "execution_count": 9,
   "metadata": {
    "scrolled": true
   },
   "outputs": [
    {
     "data": {
      "text/plain": [
       "(0.0, 53354.72331509143)"
      ]
     },
     "execution_count": 9,
     "metadata": {},
     "output_type": "execute_result"
    },
    {
     "data": {
      "image/png": "[encoded data removed]",
      "text/plain": [
       "<Figure size 432x288 with 1 Axes>"
      ]
     },
     "metadata": {
      "needs_background": "light"
     },
     "output_type": "display_data"
    }
   ],
   "source": [
    "# Engine size as potential predictor variable of price\n",
    "sns.regplot(x=\"engine-size\", y=\"price\", data=df)\n",
    "plt.ylim(0,)"
   ]
  },
  {
   "cell_type": "markdown",
   "metadata": {},
   "source": [
    "<p>As the engine-size goes up, the price goes up: this indicates a positive direct correlation between these two variables. Engine size seems like a pretty good predictor of price since the regression line is almost a perfect diagonal line.</p>\n"
   ]
  },
  {
   "cell_type": "markdown",
   "metadata": {},
   "source": [
    " We can examine the correlation between 'engine-size' and 'price' and see that it's approximately 0.87.\n"
   ]
  },
  {
   "cell_type": "code",
   "execution_count": 10,
   "metadata": {},
   "outputs": [
    {
     "data": {
      "text/html": [
       "<div>\n",
       "<style scoped>\n",
       "    .dataframe tbody tr th:only-of-type {\n",
       "        vertical-align: middle;\n",
       "    }\n",
       "\n",
       "    .dataframe tbody tr th {\n",
       "        vertical-align: top;\n",
       "    }\n",
       "\n",
       "    .dataframe thead th {\n",
       "        text-align: right;\n",
       "    }\n",
       "</style>\n",
       "<table border=\"1\" class=\"dataframe\">\n",
       "  <thead>\n",
       "    <tr style=\"text-align: right;\">\n",
       "      <th></th>\n",
       "      <th>engine-size</th>\n",
       "      <th>price</th>\n",
       "    </tr>\n",
       "  </thead>\n",
       "  <tbody>\n",
       "    <tr>\n",
       "      <th>engine-size</th>\n",
       "      <td>1.00000</td>\n",
       "      <td>0.87288</td>\n",
       "    </tr>\n",
       "    <tr>\n",
       "      <th>price</th>\n",
       "      <td>0.87288</td>\n",
       "      <td>1.00000</td>\n",
       "    </tr>\n",
       "  </tbody>\n",
       "</table>\n",
       "</div>"
      ],
      "text/plain": [
       "             engine-size    price\n",
       "engine-size      1.00000  0.87288\n",
       "price            0.87288  1.00000"
      ]
     },
     "execution_count": 10,
     "metadata": {},
     "output_type": "execute_result"
    }
   ],
   "source": [
    "df[[\"engine-size\", \"price\"]].corr()"
   ]
  },
  {
   "cell_type": "markdown",
   "metadata": {},
   "source": [
    "Highway mpg is a potential predictor variable of price. Let's find the scatterplot of \"highway-mpg\" and \"price\".\n"
   ]
  },
  {
   "cell_type": "code",
   "execution_count": 11,
   "metadata": {},
   "outputs": [
    {
     "data": {
      "text/plain": [
       "<AxesSubplot: xlabel='highway-mpg', ylabel='price'>"
      ]
     },
     "execution_count": 11,
     "metadata": {},
     "output_type": "execute_result"
    },
    {
     "data": {
      "image/png": "[encoded data removed]",
      "text/plain": [
       "<Figure size 432x288 with 1 Axes>"
      ]
     },
     "metadata": {
      "needs_background": "light"
     },
     "output_type": "display_data"
    }
   ],
   "source": [
    "sns.regplot(x=\"highway-mpg\", y=\"price\", data=df)"
   ]
  },
  {
   "cell_type": "markdown",
   "metadata": {},
   "source": [
    "<p>As highway-mpg goes up, the price goes down: this indicates an inverse/negative relationship between these two variables. Highway mpg could potentially be a predictor of price.</p>\n"
   ]
  },
  {
   "cell_type": "markdown",
   "metadata": {},
   "source": [
    "We can examine the correlation between 'highway-mpg' and 'price' and see it's approximately -0.704.\n"
   ]
  },
  {
   "cell_type": "code",
   "execution_count": 12,
   "metadata": {},
   "outputs": [
    {
     "data": {
      "text/html": [
       "<div>\n",
       "<style scoped>\n",
       "    .dataframe tbody tr th:only-of-type {\n",
       "        vertical-align: middle;\n",
       "    }\n",
       "\n",
       "    .dataframe tbody tr th {\n",
       "        vertical-align: top;\n",
       "    }\n",
       "\n",
       "    .dataframe thead th {\n",
       "        text-align: right;\n",
       "    }\n",
       "</style>\n",
       "<table border=\"1\" class=\"dataframe\">\n",
       "  <thead>\n",
       "    <tr style=\"text-align: right;\">\n",
       "      <th></th>\n",
       "      <th>highway-mpg</th>\n",
       "      <th>price</th>\n",
       "    </tr>\n",
       "  </thead>\n",
       "  <tbody>\n",
       "    <tr>\n",
       "      <th>highway-mpg</th>\n",
       "      <td>1.000000</td>\n",
       "      <td>-0.704387</td>\n",
       "    </tr>\n",
       "    <tr>\n",
       "      <th>price</th>\n",
       "      <td>-0.704387</td>\n",
       "      <td>1.000000</td>\n",
       "    </tr>\n",
       "  </tbody>\n",
       "</table>\n",
       "</div>"
      ],
      "text/plain": [
       "             highway-mpg     price\n",
       "highway-mpg     1.000000 -0.704387\n",
       "price          -0.704387  1.000000"
      ]
     },
     "execution_count": 12,
     "metadata": {},
     "output_type": "execute_result"
    }
   ],
   "source": [
    "df[['highway-mpg', 'price']].corr()"
   ]
  },
  {
   "cell_type": "markdown",
   "metadata": {},
   "source": [
    "<h3>Weak Linear Relationship</h3>\n"
   ]
  },
  {
   "cell_type": "markdown",
   "metadata": {},
   "source": [
    "Let's see if \"peak-rpm\" is a predictor variable of \"price\".\n"
   ]
  },
  {
   "cell_type": "code",
   "execution_count": 13,
   "metadata": {},
   "outputs": [
    {
     "data": {
      "text/plain": [
       "<AxesSubplot: xlabel='peak- rpm', ylabel='price'>"
      ]
     },
     "execution_count": 13,
     "metadata": {},
     "output_type": "execute_result"
    },
    {
     "data": {
      "image/png": "[encoded data removed]",
      "text/plain": [
       "<Figure size 432x288 with 1 Axes>"
      ]
     },
     "metadata": {
      "needs_background": "light"
     },
     "output_type": "display_data"
    }
   ],
   "source": [
    "sns.regplot(x=\"peak- rpm\", y=\"price\", data=df)"
   ]
  },
  {
   "cell_type": "markdown",
   "metadata": {},
   "source": [
    "<p>Peak rpm does not seem like a good predictor of the price at all since the regression line is close to horizontal. Also, the data points are very scattered and far from the fitted line, showing lots of variability. Therefore, it's not a reliable variable.</p>\n"
   ]
  },
  {
   "cell_type": "markdown",
   "metadata": {},
   "source": [
    "We can examine the correlation between 'peak-rpm' and 'price' and see it's approximately -0.101616.\n"
   ]
  },
  {
   "cell_type": "code",
   "execution_count": 14,
   "metadata": {},
   "outputs": [
    {
     "data": {
      "text/html": [
       "<div>\n",
       "<style scoped>\n",
       "    .dataframe tbody tr th:only-of-type {\n",
       "        vertical-align: middle;\n",
       "    }\n",
       "\n",
       "    .dataframe tbody tr th {\n",
       "        vertical-align: top;\n",
       "    }\n",
       "\n",
       "    .dataframe thead th {\n",
       "        text-align: right;\n",
       "    }\n",
       "</style>\n",
       "<table border=\"1\" class=\"dataframe\">\n",
       "  <thead>\n",
       "    <tr style=\"text-align: right;\">\n",
       "      <th></th>\n",
       "      <th>peak- rpm</th>\n",
       "      <th>price</th>\n",
       "    </tr>\n",
       "  </thead>\n",
       "  <tbody>\n",
       "    <tr>\n",
       "      <th>peak- rpm</th>\n",
       "      <td>1.0000</td>\n",
       "      <td>-0.1017</td>\n",
       "    </tr>\n",
       "    <tr>\n",
       "      <th>price</th>\n",
       "      <td>-0.1017</td>\n",
       "      <td>1.0000</td>\n",
       "    </tr>\n",
       "  </tbody>\n",
       "</table>\n",
       "</div>"
      ],
      "text/plain": [
       "           peak- rpm   price\n",
       "peak- rpm     1.0000 -0.1017\n",
       "price        -0.1017  1.0000"
      ]
     },
     "execution_count": 14,
     "metadata": {},
     "output_type": "execute_result"
    }
   ],
   "source": [
    "df[['peak- rpm','price']].corr()"
   ]
  },
  {
   "cell_type": "markdown",
   "metadata": {},
   "source": [
    " <div class=\"alert alert-danger alertdanger\" style=\"margin-top: 20px\">\n",
    "<h1> Question  3 a): </h1>\n",
    "\n",
    "<p>Find the correlation  between x=\"stroke\" and y=\"price\".</p>\n",
    "<p>Hint: if you would like to select those columns, use the following syntax: df[[\"stroke\",\"price\"]].  </p>\n",
    "</div>\n"
   ]
  },
  {
   "cell_type": "code",
   "execution_count": 15,
   "metadata": {},
   "outputs": [],
   "source": [
    "# Write your code below and press Shift+Enter to execute\n"
   ]
  },
  {
   "cell_type": "markdown",
   "metadata": {},
   "source": [
    "<details><summary>Click here for the solution</summary>\n",
    "\n",
    "```python\n",
    "\n",
    "#The correlation is 0.0823, the non-diagonal elements of the table.\n",
    "\n",
    "df[[\"stroke\",\"price\"]].corr()\n",
    "\n",
    "```\n",
    "\n",
    "</details>\n"
   ]
  },
  {
   "cell_type": "markdown",
   "metadata": {},
   "source": [
    "<div class=\"alert alert-danger alertdanger\" style=\"margin-top: 20px\">\n",
    "<h1>Question  3 b):</h1>\n",
    "\n",
    "<p>Given the correlation results between \"price\" and \"stroke\", do you expect a linear relationship?</p> \n",
    "<p>Verify your results using the function \"regplot()\".</p>\n",
    "</div>\n"
   ]
  },
  {
   "cell_type": "code",
   "execution_count": 16,
   "metadata": {},
   "outputs": [],
   "source": [
    "# Write your code below and press Shift+Enter to execute \n"
   ]
  },
  {
   "cell_type": "markdown",
   "metadata": {},
   "source": [
    "<details><summary>Click here for the solution</summary>\n",
    "\n",
    "```python\n",
    "\n",
    "#There is a weak correlation between the variable 'stroke' and 'price.' as such regression will not work well. We can see this using \"regplot\" to demonstrate this.\n",
    "\n",
    "#Code: \n",
    "sns.regplot(x=\"stroke\", y=\"price\", data=df)\n",
    "\n",
    "```\n",
    "\n",
    "</details>\n"
   ]
  },
  {
   "cell_type": "markdown",
   "metadata": {},
   "source": [
    "<h3>Categorical Variables</h3>\n",
    "\n",
    "<p>These are variables that describe a 'characteristic' of a data unit, and are selected from a small group of categories. The categorical variables can have the type \"object\" or \"int64\". A good way to visualize categorical variables is by using boxplots.</p>\n"
   ]
  },
  {
   "cell_type": "markdown",
   "metadata": {},
   "source": [
    "Let's look at the relationship between \"body-style\" and \"price\".\n"
   ]
  },
  {
   "cell_type": "code",
   "execution_count": 17,
   "metadata": {
    "scrolled": true
   },
   "outputs": [
    {
     "data": {
      "text/plain": [
       "<AxesSubplot: xlabel='body-style', ylabel='price'>"
      ]
     },
     "execution_count": 17,
     "metadata": {},
     "output_type": "execute_result"
    },
    {
     "data": {
      "image/png": "[encoded data removed]",
      "text/plain": [
       "<Figure size 432x288 with 1 Axes>"
      ]
     },
     "metadata": {
      "needs_background": "light"
     },
     "output_type": "display_data"
    }
   ],
   "source": [
    "sns.boxplot(x=\"body-style\", y=\"price\", data=df)"
   ]
  },
  {
   "cell_type": "markdown",
   "metadata": {},
   "source": [
    "<p>We see that the distributions of price between the different body-style categories have a significant overlap, so body-style would not be a good predictor of price. Let's examine engine \"engine-location\" and \"price\":</p>\n"
   ]
  },
  {
   "cell_type": "code",
   "execution_count": 18,
   "metadata": {
    "scrolled": true
   },
   "outputs": [
    {
     "data": {
      "text/plain": [
       "<AxesSubplot: xlabel='engine-location', ylabel='price'>"
      ]
     },
     "execution_count": 18,
     "metadata": {},
     "output_type": "execute_result"
    },
    {
     "data": {
      "image/png": "[encoded data removed]",
      "text/plain": [
       "<Figure size 432x288 with 1 Axes>"
      ]
     },
     "metadata": {
      "needs_background": "light"
     },
     "output_type": "display_data"
    }
   ],
   "source": [
    "sns.boxplot(x=\"engine-location\", y=\"price\", data=df)"
   ]
  },
  {
   "cell_type": "markdown",
   "metadata": {},
   "source": [
    "<p>Here we see that the distribution of price between these two engine-location categories, front and rear, are distinct enough to take engine-location as a potential good predictor of price.</p>\n"
   ]
  },
  {
   "cell_type": "markdown",
   "metadata": {},
   "source": [
    " Let's examine \"drive-wheels\" and \"price\".\n"
   ]
  },
  {
   "cell_type": "code",
   "execution_count": 19,
   "metadata": {},
   "outputs": [
    {
     "data": {
      "text/plain": [
       "<AxesSubplot: xlabel='drive-wheels', ylabel='price'>"
      ]
     },
     "execution_count": 19,
     "metadata": {},
     "output_type": "execute_result"
    },
    {
     "data": {
      "image/png": "[encoded data removed]",
      "text/plain": [
       "<Figure size 432x288 with 1 Axes>"
      ]
     },
     "metadata": {
      "needs_background": "light"
     },
     "output_type": "display_data"
    }
   ],
   "source": [
    "# drive-wheels\n",
    "sns.boxplot(x=\"drive-wheels\", y=\"price\", data=df)"
   ]
  },
  {
   "cell_type": "markdown",
   "metadata": {},
   "source": [
    "<p>Here we see that the distribution of price between the different drive-wheels categories differs. As such, drive-wheels could potentially be a predictor of price.</p>\n"
   ]
  },
  {
   "cell_type": "markdown",
   "metadata": {},
   "source": [
    "<h2 id=\"discriptive_statistics\">3. Descriptive Statistical Analysis</h2>\n"
   ]
  },
  {
   "cell_type": "markdown",
   "metadata": {},
   "source": [
    "<p>Let's first take a look at the variables by utilizing a description method.</p>\n",
    "\n",
    "<p>The <b>describe</b> function automatically computes basic statistics for all continuous variables. Any NaN values are automatically skipped in these statistics.</p>\n",
    "\n",
    "This will show:\n",
    "<ul>\n",
    "    <li>the count of that variable</li>\n",
    "    <li>the mean</li>\n",
    "    <li>the standard deviation (std)</li> \n",
    "    <li>the minimum value</li>\n",
    "    <li>the IQR (Interquartile Range: 25%, 50% and 75%)</li>\n",
    "    <li>the maximum value</li>\n",
    "<ul>\n"
   ]
  },
  {
   "cell_type": "markdown",
   "metadata": {},
   "source": [
    " We can apply the method \"describe\" as follows:\n"
   ]
  },
  {
   "cell_type": "code",
   "execution_count": 20,
   "metadata": {},
   "outputs": [
    {
     "data": {
      "text/html": [
       "<div>\n",
       "<style scoped>\n",
       "    .dataframe tbody tr th:only-of-type {\n",
       "        vertical-align: middle;\n",
       "    }\n",
       "\n",
       "    .dataframe tbody tr th {\n",
       "        vertical-align: top;\n",
       "    }\n",
       "\n",
       "    .dataframe thead th {\n",
       "        text-align: right;\n",
       "    }\n",
       "</style>\n",
       "<table border=\"1\" class=\"dataframe\">\n",
       "  <thead>\n",
       "    <tr style=\"text-align: right;\">\n",
       "      <th></th>\n",
       "      <th>Unnamed: 0</th>\n",
       "      <th>symboling</th>\n",
       "      <th>normalized-losses</th>\n",
       "      <th>wheel-base</th>\n",
       "      <th>length</th>\n",
       "      <th>width</th>\n",
       "      <th>height</th>\n",
       "      <th>curb-weight</th>\n",
       "      <th>engine-size</th>\n",
       "      <th>bore</th>\n",
       "      <th>...</th>\n",
       "      <th>compression-ratio</th>\n",
       "      <th>horsepower</th>\n",
       "      <th>peak- rpm</th>\n",
       "      <th>city-mpg</th>\n",
       "      <th>highway-mpg</th>\n",
       "      <th>price</th>\n",
       "      <th>fuel-type-diesel</th>\n",
       "      <th>fuel-type-gas</th>\n",
       "      <th>aspiration-type-std</th>\n",
       "      <th>turbo</th>\n",
       "    </tr>\n",
       "  </thead>\n",
       "  <tbody>\n",
       "    <tr>\n",
       "      <th>count</th>\n",
       "      <td>199.000000</td>\n",
       "      <td>199.000000</td>\n",
       "      <td>199.000000</td>\n",
       "      <td>199.000000</td>\n",
       "      <td>199.000000</td>\n",
       "      <td>199.000000</td>\n",
       "      <td>199.000000</td>\n",
       "      <td>199.000000</td>\n",
       "      <td>199.000000</td>\n",
       "      <td>199.000000</td>\n",
       "      <td>...</td>\n",
       "      <td>199.000000</td>\n",
       "      <td>199.000000</td>\n",
       "      <td>199.000000</td>\n",
       "      <td>199.000000</td>\n",
       "      <td>199.000000</td>\n",
       "      <td>199.000000</td>\n",
       "      <td>199.000000</td>\n",
       "      <td>199.000000</td>\n",
       "      <td>199.000000</td>\n",
       "      <td>199.000000</td>\n",
       "    </tr>\n",
       "    <tr>\n",
       "      <th>mean</th>\n",
       "      <td>99.000000</td>\n",
       "      <td>0.834171</td>\n",
       "      <td>121.742331</td>\n",
       "      <td>98.813568</td>\n",
       "      <td>0.494090</td>\n",
       "      <td>0.478511</td>\n",
       "      <td>0.497571</td>\n",
       "      <td>2555.422111</td>\n",
       "      <td>126.839196</td>\n",
       "      <td>3.334748</td>\n",
       "      <td>...</td>\n",
       "      <td>10.170955</td>\n",
       "      <td>103.155979</td>\n",
       "      <td>5116.322908</td>\n",
       "      <td>25.216080</td>\n",
       "      <td>30.713568</td>\n",
       "      <td>13186.849246</td>\n",
       "      <td>0.100503</td>\n",
       "      <td>0.899497</td>\n",
       "      <td>0.819095</td>\n",
       "      <td>0.180905</td>\n",
       "    </tr>\n",
       "    <tr>\n",
       "      <th>std</th>\n",
       "      <td>57.590508</td>\n",
       "      <td>1.258361</td>\n",
       "      <td>32.017765</td>\n",
       "      <td>6.088835</td>\n",
       "      <td>0.184795</td>\n",
       "      <td>0.180163</td>\n",
       "      <td>0.204828</td>\n",
       "      <td>519.323018</td>\n",
       "      <td>41.698585</td>\n",
       "      <td>0.265205</td>\n",
       "      <td>...</td>\n",
       "      <td>4.024269</td>\n",
       "      <td>37.380398</td>\n",
       "      <td>479.678677</td>\n",
       "      <td>6.439975</td>\n",
       "      <td>6.841153</td>\n",
       "      <td>7983.472824</td>\n",
       "      <td>0.301427</td>\n",
       "      <td>0.301427</td>\n",
       "      <td>0.385910</td>\n",
       "      <td>0.385910</td>\n",
       "    </tr>\n",
       "    <tr>\n",
       "      <th>min</th>\n",
       "      <td>0.000000</td>\n",
       "      <td>-2.000000</td>\n",
       "      <td>65.000000</td>\n",
       "      <td>86.600000</td>\n",
       "      <td>0.000000</td>\n",
       "      <td>0.000000</td>\n",
       "      <td>0.000000</td>\n",
       "      <td>1488.000000</td>\n",
       "      <td>61.000000</td>\n",
       "      <td>2.540000</td>\n",
       "      <td>...</td>\n",
       "      <td>7.000000</td>\n",
       "      <td>48.000000</td>\n",
       "      <td>4150.000000</td>\n",
       "      <td>13.000000</td>\n",
       "      <td>16.000000</td>\n",
       "      <td>5118.000000</td>\n",
       "      <td>0.000000</td>\n",
       "      <td>0.000000</td>\n",
       "      <td>0.000000</td>\n",
       "      <td>0.000000</td>\n",
       "    </tr>\n",
       "    <tr>\n",
       "      <th>25%</th>\n",
       "      <td>49.500000</td>\n",
       "      <td>0.000000</td>\n",
       "      <td>99.500000</td>\n",
       "      <td>94.500000</td>\n",
       "      <td>0.379851</td>\n",
       "      <td>0.329060</td>\n",
       "      <td>0.350000</td>\n",
       "      <td>2157.000000</td>\n",
       "      <td>97.500000</td>\n",
       "      <td>3.150000</td>\n",
       "      <td>...</td>\n",
       "      <td>8.550000</td>\n",
       "      <td>70.000000</td>\n",
       "      <td>4800.000000</td>\n",
       "      <td>19.000000</td>\n",
       "      <td>25.000000</td>\n",
       "      <td>7775.000000</td>\n",
       "      <td>0.000000</td>\n",
       "      <td>1.000000</td>\n",
       "      <td>1.000000</td>\n",
       "      <td>0.000000</td>\n",
       "    </tr>\n",
       "    <tr>\n",
       "      <th>50%</th>\n",
       "      <td>99.000000</td>\n",
       "      <td>1.000000</td>\n",
       "      <td>121.742331</td>\n",
       "      <td>97.000000</td>\n",
       "      <td>0.479104</td>\n",
       "      <td>0.444444</td>\n",
       "      <td>0.525000</td>\n",
       "      <td>2414.000000</td>\n",
       "      <td>120.000000</td>\n",
       "      <td>3.330000</td>\n",
       "      <td>...</td>\n",
       "      <td>9.000000</td>\n",
       "      <td>95.000000</td>\n",
       "      <td>5124.129353</td>\n",
       "      <td>24.000000</td>\n",
       "      <td>30.000000</td>\n",
       "      <td>10245.000000</td>\n",
       "      <td>0.000000</td>\n",
       "      <td>1.000000</td>\n",
       "      <td>1.000000</td>\n",
       "      <td>0.000000</td>\n",
       "    </tr>\n",
       "    <tr>\n",
       "      <th>75%</th>\n",
       "      <td>148.500000</td>\n",
       "      <td>2.000000</td>\n",
       "      <td>137.000000</td>\n",
       "      <td>102.400000</td>\n",
       "      <td>0.632836</td>\n",
       "      <td>0.551282</td>\n",
       "      <td>0.645833</td>\n",
       "      <td>2930.500000</td>\n",
       "      <td>141.000000</td>\n",
       "      <td>3.585000</td>\n",
       "      <td>...</td>\n",
       "      <td>9.400000</td>\n",
       "      <td>116.000000</td>\n",
       "      <td>5500.000000</td>\n",
       "      <td>30.000000</td>\n",
       "      <td>34.000000</td>\n",
       "      <td>16501.500000</td>\n",
       "      <td>0.000000</td>\n",
       "      <td>1.000000</td>\n",
       "      <td>1.000000</td>\n",
       "      <td>0.000000</td>\n",
       "    </tr>\n",
       "    <tr>\n",
       "      <th>max</th>\n",
       "      <td>198.000000</td>\n",
       "      <td>3.000000</td>\n",
       "      <td>256.000000</td>\n",
       "      <td>120.900000</td>\n",
       "      <td>1.000000</td>\n",
       "      <td>1.000000</td>\n",
       "      <td>1.000000</td>\n",
       "      <td>4066.000000</td>\n",
       "      <td>326.000000</td>\n",
       "      <td>3.940000</td>\n",
       "      <td>...</td>\n",
       "      <td>23.000000</td>\n",
       "      <td>262.000000</td>\n",
       "      <td>6600.000000</td>\n",
       "      <td>49.000000</td>\n",
       "      <td>54.000000</td>\n",
       "      <td>45400.000000</td>\n",
       "      <td>1.000000</td>\n",
       "      <td>1.000000</td>\n",
       "      <td>1.000000</td>\n",
       "      <td>1.000000</td>\n",
       "    </tr>\n",
       "  </tbody>\n",
       "</table>\n",
       "<p>8 rows × 21 columns</p>\n",
       "</div>"
      ],
      "text/plain": [
       "       Unnamed: 0   symboling  normalized-losses  wheel-base      length  \\\n",
       "count  199.000000  199.000000         199.000000  199.000000  199.000000   \n",
       "mean    99.000000    0.834171         121.742331   98.813568    0.494090   \n",
       "std     57.590508    1.258361          32.017765    6.088835    0.184795   \n",
       "min      0.000000   -2.000000          65.000000   86.600000    0.000000   \n",
       "25%     49.500000    0.000000          99.500000   94.500000    0.379851   \n",
       "50%     99.000000    1.000000         121.742331   97.000000    0.479104   \n",
       "75%    148.500000    2.000000         137.000000  102.400000    0.632836   \n",
       "max    198.000000    3.000000         256.000000  120.900000    1.000000   \n",
       "\n",
       "            width      height  curb-weight  engine-size        bore  ...  \\\n",
       "count  199.000000  199.000000   199.000000   199.000000  199.000000  ...   \n",
       "mean     0.478511    0.497571  2555.422111   126.839196    3.334748  ...   \n",
       "std      0.180163    0.204828   519.323018    41.698585    0.265205  ...   \n",
       "min      0.000000    0.000000  1488.000000    61.000000    2.540000  ...   \n",
       "25%      0.329060    0.350000  2157.000000    97.500000    3.150000  ...   \n",
       "50%      0.444444    0.525000  2414.000000   120.000000    3.330000  ...   \n",
       "75%      0.551282    0.645833  2930.500000   141.000000    3.585000  ...   \n",
       "max      1.000000    1.000000  4066.000000   326.000000    3.940000  ...   \n",
       "\n",
       "       compression-ratio  horsepower    peak- rpm    city-mpg  highway-mpg  \\\n",
       "count         199.000000  199.000000   199.000000  199.000000   199.000000   \n",
       "mean           10.170955  103.155979  5116.322908   25.216080    30.713568   \n",
       "std             4.024269   37.380398   479.678677    6.439975     6.841153   \n",
       "min             7.000000   48.000000  4150.000000   13.000000    16.000000   \n",
       "25%             8.550000   70.000000  4800.000000   19.000000    25.000000   \n",
       "50%             9.000000   95.000000  5124.129353   24.000000    30.000000   \n",
       "75%             9.400000  116.000000  5500.000000   30.000000    34.000000   \n",
       "max            23.000000  262.000000  6600.000000   49.000000    54.000000   \n",
       "\n",
       "              price  fuel-type-diesel  fuel-type-gas  aspiration-type-std  \\\n",
       "count    199.000000        199.000000     199.000000           199.000000   \n",
       "mean   13186.849246          0.100503       0.899497             0.819095   \n",
       "std     7983.472824          0.301427       0.301427             0.385910   \n",
       "min     5118.000000          0.000000       0.000000             0.000000   \n",
       "25%     7775.000000          0.000000       1.000000             1.000000   \n",
       "50%    10245.000000          0.000000       1.000000             1.000000   \n",
       "75%    16501.500000          0.000000       1.000000             1.000000   \n",
       "max    45400.000000          1.000000       1.000000             1.000000   \n",
       "\n",
       "            turbo  \n",
       "count  199.000000  \n",
       "mean     0.180905  \n",
       "std      0.385910  \n",
       "min      0.000000  \n",
       "25%      0.000000  \n",
       "50%      0.000000  \n",
       "75%      0.000000  \n",
       "max      1.000000  \n",
       "\n",
       "[8 rows x 21 columns]"
      ]
     },
     "execution_count": 20,
     "metadata": {},
     "output_type": "execute_result"
    }
   ],
   "source": [
    "df.describe()"
   ]
  },
  {
   "cell_type": "markdown",
   "metadata": {},
   "source": [
    " The default setting of \"describe\" skips variables of type object. We can apply the method \"describe\" on the variables of type 'object' as follows:\n"
   ]
  },
  {
   "cell_type": "code",
   "execution_count": 21,
   "metadata": {
    "scrolled": true
   },
   "outputs": [
    {
     "data": {
      "text/html": [
       "<div>\n",
       "<style scoped>\n",
       "    .dataframe tbody tr th:only-of-type {\n",
       "        vertical-align: middle;\n",
       "    }\n",
       "\n",
       "    .dataframe tbody tr th {\n",
       "        vertical-align: top;\n",
       "    }\n",
       "\n",
       "    .dataframe thead th {\n",
       "        text-align: right;\n",
       "    }\n",
       "</style>\n",
       "<table border=\"1\" class=\"dataframe\">\n",
       "  <thead>\n",
       "    <tr style=\"text-align: right;\">\n",
       "      <th></th>\n",
       "      <th>make</th>\n",
       "      <th>num-of-doors</th>\n",
       "      <th>body-style</th>\n",
       "      <th>drive-wheels</th>\n",
       "      <th>engine-location</th>\n",
       "      <th>engine-type</th>\n",
       "      <th>num-of-cylinders</th>\n",
       "      <th>fuel-system</th>\n",
       "      <th>horsepower-binned</th>\n",
       "    </tr>\n",
       "  </thead>\n",
       "  <tbody>\n",
       "    <tr>\n",
       "      <th>count</th>\n",
       "      <td>199</td>\n",
       "      <td>199</td>\n",
       "      <td>199</td>\n",
       "      <td>199</td>\n",
       "      <td>199</td>\n",
       "      <td>199</td>\n",
       "      <td>199</td>\n",
       "      <td>199</td>\n",
       "      <td>199</td>\n",
       "    </tr>\n",
       "    <tr>\n",
       "      <th>unique</th>\n",
       "      <td>22</td>\n",
       "      <td>2</td>\n",
       "      <td>5</td>\n",
       "      <td>3</td>\n",
       "      <td>2</td>\n",
       "      <td>6</td>\n",
       "      <td>7</td>\n",
       "      <td>8</td>\n",
       "      <td>3</td>\n",
       "    </tr>\n",
       "    <tr>\n",
       "      <th>top</th>\n",
       "      <td>toyota</td>\n",
       "      <td>four</td>\n",
       "      <td>sedan</td>\n",
       "      <td>fwd</td>\n",
       "      <td>front</td>\n",
       "      <td>ohc</td>\n",
       "      <td>four</td>\n",
       "      <td>mpfi</td>\n",
       "      <td>Low</td>\n",
       "    </tr>\n",
       "    <tr>\n",
       "      <th>freq</th>\n",
       "      <td>32</td>\n",
       "      <td>114</td>\n",
       "      <td>93</td>\n",
       "      <td>117</td>\n",
       "      <td>196</td>\n",
       "      <td>144</td>\n",
       "      <td>156</td>\n",
       "      <td>90</td>\n",
       "      <td>152</td>\n",
       "    </tr>\n",
       "  </tbody>\n",
       "</table>\n",
       "</div>"
      ],
      "text/plain": [
       "          make num-of-doors body-style drive-wheels engine-location  \\\n",
       "count      199          199        199          199             199   \n",
       "unique      22            2          5            3               2   \n",
       "top     toyota         four      sedan          fwd           front   \n",
       "freq        32          114         93          117             196   \n",
       "\n",
       "       engine-type num-of-cylinders fuel-system horsepower-binned  \n",
       "count          199              199         199               199  \n",
       "unique           6                7           8                 3  \n",
       "top            ohc             four        mpfi               Low  \n",
       "freq           144              156          90               152  "
      ]
     },
     "execution_count": 21,
     "metadata": {},
     "output_type": "execute_result"
    }
   ],
   "source": [
    "df.describe(include=['object'])"
   ]
  },
  {
   "cell_type": "markdown",
   "metadata": {},
   "source": [
    "<h3>Value Counts</h3>\n"
   ]
  },
  {
   "cell_type": "markdown",
   "metadata": {},
   "source": [
    "<p>Value counts is a good way of understanding how many units of each characteristic/variable we have. We can apply the \"value_counts\" method on the column \"drive-wheels\". Don’t forget the method \"value_counts\" only works on pandas series, not pandas dataframes. As a result, we only include one bracket <code>df['drive-wheels']</code>, not two brackets <code>df[['drive-wheels']]</code>.</p>\n"
   ]
  },
  {
   "cell_type": "code",
   "execution_count": 22,
   "metadata": {},
   "outputs": [
    {
     "data": {
      "text/plain": [
       "fwd    117\n",
       "rwd     74\n",
       "4wd      8\n",
       "Name: drive-wheels, dtype: int64"
      ]
     },
     "execution_count": 22,
     "metadata": {},
     "output_type": "execute_result"
    }
   ],
   "source": [
    "df['drive-wheels'].value_counts()"
   ]
  },
  {
   "cell_type": "markdown",
   "metadata": {},
   "source": [
    "We can convert the series to a dataframe as follows:\n"
   ]
  },
  {
   "cell_type": "code",
   "execution_count": 23,
   "metadata": {},
   "outputs": [
    {
     "data": {
      "text/html": [
       "<div>\n",
       "<style scoped>\n",
       "    .dataframe tbody tr th:only-of-type {\n",
       "        vertical-align: middle;\n",
       "    }\n",
       "\n",
       "    .dataframe tbody tr th {\n",
       "        vertical-align: top;\n",
       "    }\n",
       "\n",
       "    .dataframe thead th {\n",
       "        text-align: right;\n",
       "    }\n",
       "</style>\n",
       "<table border=\"1\" class=\"dataframe\">\n",
       "  <thead>\n",
       "    <tr style=\"text-align: right;\">\n",
       "      <th></th>\n",
       "      <th>drive-wheels</th>\n",
       "    </tr>\n",
       "  </thead>\n",
       "  <tbody>\n",
       "    <tr>\n",
       "      <th>fwd</th>\n",
       "      <td>117</td>\n",
       "    </tr>\n",
       "    <tr>\n",
       "      <th>rwd</th>\n",
       "      <td>74</td>\n",
       "    </tr>\n",
       "    <tr>\n",
       "      <th>4wd</th>\n",
       "      <td>8</td>\n",
       "    </tr>\n",
       "  </tbody>\n",
       "</table>\n",
       "</div>"
      ],
      "text/plain": [
       "     drive-wheels\n",
       "fwd           117\n",
       "rwd            74\n",
       "4wd             8"
      ]
     },
     "execution_count": 23,
     "metadata": {},
     "output_type": "execute_result"
    }
   ],
   "source": [
    "df['drive-wheels'].value_counts().to_frame()"
   ]
  },
  {
   "cell_type": "markdown",
   "metadata": {},
   "source": [
    "Let's repeat the above steps but save the results to the dataframe \"drive_wheels_counts\" and rename the column  'drive-wheels' to 'value_counts'.\n"
   ]
  },
  {
   "cell_type": "code",
   "execution_count": 24,
   "metadata": {},
   "outputs": [
    {
     "data": {
      "text/html": [
       "<div>\n",
       "<style scoped>\n",
       "    .dataframe tbody tr th:only-of-type {\n",
       "        vertical-align: middle;\n",
       "    }\n",
       "\n",
       "    .dataframe tbody tr th {\n",
       "        vertical-align: top;\n",
       "    }\n",
       "\n",
       "    .dataframe thead th {\n",
       "        text-align: right;\n",
       "    }\n",
       "</style>\n",
       "<table border=\"1\" class=\"dataframe\">\n",
       "  <thead>\n",
       "    <tr style=\"text-align: right;\">\n",
       "      <th></th>\n",
       "      <th>value_counts</th>\n",
       "    </tr>\n",
       "  </thead>\n",
       "  <tbody>\n",
       "    <tr>\n",
       "      <th>fwd</th>\n",
       "      <td>117</td>\n",
       "    </tr>\n",
       "    <tr>\n",
       "      <th>rwd</th>\n",
       "      <td>74</td>\n",
       "    </tr>\n",
       "    <tr>\n",
       "      <th>4wd</th>\n",
       "      <td>8</td>\n",
       "    </tr>\n",
       "  </tbody>\n",
       "</table>\n",
       "</div>"
      ],
      "text/plain": [
       "     value_counts\n",
       "fwd           117\n",
       "rwd            74\n",
       "4wd             8"
      ]
     },
     "execution_count": 24,
     "metadata": {},
     "output_type": "execute_result"
    }
   ],
   "source": [
    "drive_wheels_counts = df['drive-wheels'].value_counts().to_frame()\n",
    "drive_wheels_counts.rename(columns={'drive-wheels': 'value_counts'}, inplace=True)\n",
    "drive_wheels_counts"
   ]
  },
  {
   "cell_type": "markdown",
   "metadata": {},
   "source": [
    " Now let's rename the index to 'drive-wheels':\n"
   ]
  },
  {
   "cell_type": "code",
   "execution_count": 25,
   "metadata": {},
   "outputs": [
    {
     "data": {
      "text/html": [
       "<div>\n",
       "<style scoped>\n",
       "    .dataframe tbody tr th:only-of-type {\n",
       "        vertical-align: middle;\n",
       "    }\n",
       "\n",
       "    .dataframe tbody tr th {\n",
       "        vertical-align: top;\n",
       "    }\n",
       "\n",
       "    .dataframe thead th {\n",
       "        text-align: right;\n",
       "    }\n",
       "</style>\n",
       "<table border=\"1\" class=\"dataframe\">\n",
       "  <thead>\n",
       "    <tr style=\"text-align: right;\">\n",
       "      <th></th>\n",
       "      <th>value_counts</th>\n",
       "    </tr>\n",
       "    <tr>\n",
       "      <th>drive-wheels</th>\n",
       "      <th></th>\n",
       "    </tr>\n",
       "  </thead>\n",
       "  <tbody>\n",
       "    <tr>\n",
       "      <th>fwd</th>\n",
       "      <td>117</td>\n",
       "    </tr>\n",
       "    <tr>\n",
       "      <th>rwd</th>\n",
       "      <td>74</td>\n",
       "    </tr>\n",
       "    <tr>\n",
       "      <th>4wd</th>\n",
       "      <td>8</td>\n",
       "    </tr>\n",
       "  </tbody>\n",
       "</table>\n",
       "</div>"
      ],
      "text/plain": [
       "              value_counts\n",
       "drive-wheels              \n",
       "fwd                    117\n",
       "rwd                     74\n",
       "4wd                      8"
      ]
     },
     "execution_count": 25,
     "metadata": {},
     "output_type": "execute_result"
    }
   ],
   "source": [
    "drive_wheels_counts.index.name = 'drive-wheels'\n",
    "drive_wheels_counts"
   ]
  },
  {
   "cell_type": "markdown",
   "metadata": {},
   "source": [
    "We can repeat the above process for the variable 'engine-location'.\n"
   ]
  },
  {
   "cell_type": "code",
   "execution_count": 26,
   "metadata": {},
   "outputs": [
    {
     "data": {
      "text/html": [
       "<div>\n",
       "<style scoped>\n",
       "    .dataframe tbody tr th:only-of-type {\n",
       "        vertical-align: middle;\n",
       "    }\n",
       "\n",
       "    .dataframe tbody tr th {\n",
       "        vertical-align: top;\n",
       "    }\n",
       "\n",
       "    .dataframe thead th {\n",
       "        text-align: right;\n",
       "    }\n",
       "</style>\n",
       "<table border=\"1\" class=\"dataframe\">\n",
       "  <thead>\n",
       "    <tr style=\"text-align: right;\">\n",
       "      <th></th>\n",
       "      <th>value_counts</th>\n",
       "    </tr>\n",
       "    <tr>\n",
       "      <th>engine-location</th>\n",
       "      <th></th>\n",
       "    </tr>\n",
       "  </thead>\n",
       "  <tbody>\n",
       "    <tr>\n",
       "      <th>front</th>\n",
       "      <td>196</td>\n",
       "    </tr>\n",
       "    <tr>\n",
       "      <th>rear</th>\n",
       "      <td>3</td>\n",
       "    </tr>\n",
       "  </tbody>\n",
       "</table>\n",
       "</div>"
      ],
      "text/plain": [
       "                 value_counts\n",
       "engine-location              \n",
       "front                     196\n",
       "rear                        3"
      ]
     },
     "execution_count": 26,
     "metadata": {},
     "output_type": "execute_result"
    }
   ],
   "source": [
    "# engine-location as variable\n",
    "engine_loc_counts = df['engine-location'].value_counts().to_frame()\n",
    "engine_loc_counts.rename(columns={'engine-location': 'value_counts'}, inplace=True)\n",
    "engine_loc_counts.index.name = 'engine-location'\n",
    "engine_loc_counts.head(10)"
   ]
  },
  {
   "cell_type": "code",
   "execution_count": 27,
   "metadata": {},
   "outputs": [
    {
     "name": "stdout",
     "output_type": "stream",
     "text": [
      "<class 'pandas.core.frame.DataFrame'>\n",
      "RangeIndex: 199 entries, 0 to 198\n",
      "Data columns (total 30 columns):\n",
      " #   Column               Non-Null Count  Dtype  \n",
      "---  ------               --------------  -----  \n",
      " 0   Unnamed: 0           199 non-null    int64  \n",
      " 1   symboling            199 non-null    int64  \n",
      " 2   normalized-losses    199 non-null    float64\n",
      " 3   make                 199 non-null    object \n",
      " 4   num-of-doors         199 non-null    object \n",
      " 5   body-style           199 non-null    object \n",
      " 6   drive-wheels         199 non-null    object \n",
      " 7   engine-location      199 non-null    object \n",
      " 8   wheel-base           199 non-null    float64\n",
      " 9   length               199 non-null    float64\n",
      " 10  width                199 non-null    float64\n",
      " 11  height               199 non-null    float64\n",
      " 12  curb-weight          199 non-null    int64  \n",
      " 13  engine-type          199 non-null    object \n",
      " 14  num-of-cylinders     199 non-null    object \n",
      " 15  engine-size          199 non-null    int64  \n",
      " 16  fuel-system          199 non-null    object \n",
      " 17  bore                 199 non-null    float64\n",
      " 18  stroke               195 non-null    float64\n",
      " 19  compression-ratio    199 non-null    float64\n",
      " 20  horsepower           199 non-null    float64\n",
      " 21  peak- rpm            199 non-null    float64\n",
      " 22  city-mpg             199 non-null    int64  \n",
      " 23  highway-mpg          199 non-null    int64  \n",
      " 24  price                199 non-null    int64  \n",
      " 25  horsepower-binned    199 non-null    object \n",
      " 26  fuel-type-diesel     199 non-null    int64  \n",
      " 27  fuel-type-gas        199 non-null    int64  \n",
      " 28  aspiration-type-std  199 non-null    int64  \n",
      " 29  turbo                199 non-null    int64  \n",
      "dtypes: float64(10), int64(11), object(9)\n",
      "memory usage: 46.8+ KB\n"
     ]
    }
   ],
   "source": [
    "df.info()"
   ]
  },
  {
   "cell_type": "markdown",
   "metadata": {},
   "source": [
    "<p>After examining the value counts of the engine location, we see that engine location would not be a good predictor variable for the price. This is because we only have three cars with a rear engine and 198 with an engine in the front, so this result is skewed. Thus, we are not able to draw any conclusions about the engine location.</p>\n"
   ]
  },
  {
   "cell_type": "markdown",
   "metadata": {},
   "source": [
    "<h2 id=\"basic_grouping\">4. Basics of Grouping</h2>\n"
   ]
  },
  {
   "cell_type": "markdown",
   "metadata": {},
   "source": [
    "<p>The \"groupby\" method groups data by different categories. The data is grouped based on one or several variables, and analysis is performed on the individual groups.</p>\n",
    "\n",
    "<p>For example, let's group by the variable \"drive-wheels\". We see that there are 3 different categories of drive wheels.</p>\n"
   ]
  },
  {
   "cell_type": "code",
   "execution_count": 28,
   "metadata": {},
   "outputs": [
    {
     "data": {
      "text/plain": [
       "array(['rwd', '4wd', 'fwd'], dtype=object)"
      ]
     },
     "execution_count": 28,
     "metadata": {},
     "output_type": "execute_result"
    }
   ],
   "source": [
    "df['drive-wheels'].unique()"
   ]
  },
  {
   "cell_type": "markdown",
   "metadata": {},
   "source": [
    "<p>If we want to know, on average, which type of drive wheel is most valuable, we can group \"drive-wheels\" and then average them.</p>\n",
    "\n",
    "<p>We can select the columns 'drive-wheels', 'body-style' and 'price', then assign it to the variable \"df_group_one\".</p>\n"
   ]
  },
  {
   "cell_type": "code",
   "execution_count": 29,
   "metadata": {},
   "outputs": [],
   "source": [
    "df_group_one = df[['drive-wheels','body-style','price']]"
   ]
  },
  {
   "cell_type": "markdown",
   "metadata": {},
   "source": [
    "We can then calculate the average price for each of the different categories of data.\n"
   ]
  },
  {
   "cell_type": "code",
   "execution_count": 30,
   "metadata": {},
   "outputs": [
    {
     "data": {
      "text/html": [
       "<div>\n",
       "<style scoped>\n",
       "    .dataframe tbody tr th:only-of-type {\n",
       "        vertical-align: middle;\n",
       "    }\n",
       "\n",
       "    .dataframe tbody tr th {\n",
       "        vertical-align: top;\n",
       "    }\n",
       "\n",
       "    .dataframe thead th {\n",
       "        text-align: right;\n",
       "    }\n",
       "</style>\n",
       "<table border=\"1\" class=\"dataframe\">\n",
       "  <thead>\n",
       "    <tr style=\"text-align: right;\">\n",
       "      <th></th>\n",
       "      <th>drive-wheels</th>\n",
       "      <th>price</th>\n",
       "    </tr>\n",
       "  </thead>\n",
       "  <tbody>\n",
       "    <tr>\n",
       "      <th>0</th>\n",
       "      <td>4wd</td>\n",
       "      <td>10241.000000</td>\n",
       "    </tr>\n",
       "    <tr>\n",
       "      <th>1</th>\n",
       "      <td>fwd</td>\n",
       "      <td>9204.564103</td>\n",
       "    </tr>\n",
       "    <tr>\n",
       "      <th>2</th>\n",
       "      <td>rwd</td>\n",
       "      <td>19801.635135</td>\n",
       "    </tr>\n",
       "  </tbody>\n",
       "</table>\n",
       "</div>"
      ],
      "text/plain": [
       "  drive-wheels         price\n",
       "0          4wd  10241.000000\n",
       "1          fwd   9204.564103\n",
       "2          rwd  19801.635135"
      ]
     },
     "execution_count": 30,
     "metadata": {},
     "output_type": "execute_result"
    }
   ],
   "source": [
    "# grouping results\n",
    "df_group_one = df_group_one.groupby(['drive-wheels'],as_index=False).mean()\n",
    "df_group_one"
   ]
  },
  {
   "cell_type": "markdown",
   "metadata": {},
   "source": [
    "<p>From our data, it seems rear-wheel drive vehicles are, on average, the most expensive, while 4-wheel and front-wheel are approximately the same in price.</p>\n",
    "\n",
    "<p>You can also group by multiple variables. For example, let's group by both 'drive-wheels' and 'body-style'. This groups the dataframe by the unique combination of 'drive-wheels' and 'body-style'. We can store the results in the variable 'grouped_test1'.</p>\n"
   ]
  },
  {
   "cell_type": "code",
   "execution_count": 31,
   "metadata": {},
   "outputs": [
    {
     "data": {
      "text/html": [
       "<div>\n",
       "<style scoped>\n",
       "    .dataframe tbody tr th:only-of-type {\n",
       "        vertical-align: middle;\n",
       "    }\n",
       "\n",
       "    .dataframe tbody tr th {\n",
       "        vertical-align: top;\n",
       "    }\n",
       "\n",
       "    .dataframe thead th {\n",
       "        text-align: right;\n",
       "    }\n",
       "</style>\n",
       "<table border=\"1\" class=\"dataframe\">\n",
       "  <thead>\n",
       "    <tr style=\"text-align: right;\">\n",
       "      <th></th>\n",
       "      <th>drive-wheels</th>\n",
       "      <th>body-style</th>\n",
       "      <th>price</th>\n",
       "    </tr>\n",
       "  </thead>\n",
       "  <tbody>\n",
       "    <tr>\n",
       "      <th>0</th>\n",
       "      <td>4wd</td>\n",
       "      <td>hatchback</td>\n",
       "      <td>7603.000000</td>\n",
       "    </tr>\n",
       "    <tr>\n",
       "      <th>1</th>\n",
       "      <td>4wd</td>\n",
       "      <td>sedan</td>\n",
       "      <td>12647.333333</td>\n",
       "    </tr>\n",
       "    <tr>\n",
       "      <th>2</th>\n",
       "      <td>4wd</td>\n",
       "      <td>wagon</td>\n",
       "      <td>9095.750000</td>\n",
       "    </tr>\n",
       "    <tr>\n",
       "      <th>3</th>\n",
       "      <td>fwd</td>\n",
       "      <td>convertible</td>\n",
       "      <td>11595.000000</td>\n",
       "    </tr>\n",
       "    <tr>\n",
       "      <th>4</th>\n",
       "      <td>fwd</td>\n",
       "      <td>hardtop</td>\n",
       "      <td>8249.000000</td>\n",
       "    </tr>\n",
       "    <tr>\n",
       "      <th>5</th>\n",
       "      <td>fwd</td>\n",
       "      <td>hatchback</td>\n",
       "      <td>8396.387755</td>\n",
       "    </tr>\n",
       "    <tr>\n",
       "      <th>6</th>\n",
       "      <td>fwd</td>\n",
       "      <td>sedan</td>\n",
       "      <td>9735.166667</td>\n",
       "    </tr>\n",
       "    <tr>\n",
       "      <th>7</th>\n",
       "      <td>fwd</td>\n",
       "      <td>wagon</td>\n",
       "      <td>9997.333333</td>\n",
       "    </tr>\n",
       "    <tr>\n",
       "      <th>8</th>\n",
       "      <td>rwd</td>\n",
       "      <td>convertible</td>\n",
       "      <td>23949.600000</td>\n",
       "    </tr>\n",
       "    <tr>\n",
       "      <th>9</th>\n",
       "      <td>rwd</td>\n",
       "      <td>hardtop</td>\n",
       "      <td>24202.714286</td>\n",
       "    </tr>\n",
       "    <tr>\n",
       "      <th>10</th>\n",
       "      <td>rwd</td>\n",
       "      <td>hatchback</td>\n",
       "      <td>14210.588235</td>\n",
       "    </tr>\n",
       "    <tr>\n",
       "      <th>11</th>\n",
       "      <td>rwd</td>\n",
       "      <td>sedan</td>\n",
       "      <td>21711.833333</td>\n",
       "    </tr>\n",
       "    <tr>\n",
       "      <th>12</th>\n",
       "      <td>rwd</td>\n",
       "      <td>wagon</td>\n",
       "      <td>16994.222222</td>\n",
       "    </tr>\n",
       "  </tbody>\n",
       "</table>\n",
       "</div>"
      ],
      "text/plain": [
       "   drive-wheels   body-style         price\n",
       "0           4wd    hatchback   7603.000000\n",
       "1           4wd        sedan  12647.333333\n",
       "2           4wd        wagon   9095.750000\n",
       "3           fwd  convertible  11595.000000\n",
       "4           fwd      hardtop   8249.000000\n",
       "5           fwd    hatchback   8396.387755\n",
       "6           fwd        sedan   9735.166667\n",
       "7           fwd        wagon   9997.333333\n",
       "8           rwd  convertible  23949.600000\n",
       "9           rwd      hardtop  24202.714286\n",
       "10          rwd    hatchback  14210.588235\n",
       "11          rwd        sedan  21711.833333\n",
       "12          rwd        wagon  16994.222222"
      ]
     },
     "execution_count": 31,
     "metadata": {},
     "output_type": "execute_result"
    }
   ],
   "source": [
    "# grouping results\n",
    "df_gptest = df[['drive-wheels','body-style','price']]\n",
    "grouped_test1 = df_gptest.groupby(['drive-wheels','body-style'],as_index=False).mean()\n",
    "grouped_test1"
   ]
  },
  {
   "cell_type": "markdown",
   "metadata": {},
   "source": [
    "<p>This grouped data is much easier to visualize when it is made into a pivot table. A pivot table is like an Excel spreadsheet, with one variable along the column and another along the row. We can convert the dataframe to a pivot table using the method \"pivot\" to create a pivot table from the groups.</p>\n",
    "\n",
    "<p>In this case, we will leave the drive-wheels variable as the rows of the table, and pivot body-style to become the columns of the table:</p>\n"
   ]
  },
  {
   "cell_type": "code",
   "execution_count": 32,
   "metadata": {},
   "outputs": [
    {
     "data": {
      "text/html": [
       "<div>\n",
       "<style scoped>\n",
       "    .dataframe tbody tr th:only-of-type {\n",
       "        vertical-align: middle;\n",
       "    }\n",
       "\n",
       "    .dataframe tbody tr th {\n",
       "        vertical-align: top;\n",
       "    }\n",
       "\n",
       "    .dataframe thead tr th {\n",
       "        text-align: left;\n",
       "    }\n",
       "\n",
       "    .dataframe thead tr:last-of-type th {\n",
       "        text-align: right;\n",
       "    }\n",
       "</style>\n",
       "<table border=\"1\" class=\"dataframe\">\n",
       "  <thead>\n",
       "    <tr>\n",
       "      <th></th>\n",
       "      <th colspan=\"5\" halign=\"left\">price</th>\n",
       "    </tr>\n",
       "    <tr>\n",
       "      <th>body-style</th>\n",
       "      <th>convertible</th>\n",
       "      <th>hardtop</th>\n",
       "      <th>hatchback</th>\n",
       "      <th>sedan</th>\n",
       "      <th>wagon</th>\n",
       "    </tr>\n",
       "    <tr>\n",
       "      <th>drive-wheels</th>\n",
       "      <th></th>\n",
       "      <th></th>\n",
       "      <th></th>\n",
       "      <th></th>\n",
       "      <th></th>\n",
       "    </tr>\n",
       "  </thead>\n",
       "  <tbody>\n",
       "    <tr>\n",
       "      <th>4wd</th>\n",
       "      <td>NaN</td>\n",
       "      <td>NaN</td>\n",
       "      <td>7603.000000</td>\n",
       "      <td>12647.333333</td>\n",
       "      <td>9095.750000</td>\n",
       "    </tr>\n",
       "    <tr>\n",
       "      <th>fwd</th>\n",
       "      <td>11595.0</td>\n",
       "      <td>8249.000000</td>\n",
       "      <td>8396.387755</td>\n",
       "      <td>9735.166667</td>\n",
       "      <td>9997.333333</td>\n",
       "    </tr>\n",
       "    <tr>\n",
       "      <th>rwd</th>\n",
       "      <td>23949.6</td>\n",
       "      <td>24202.714286</td>\n",
       "      <td>14210.588235</td>\n",
       "      <td>21711.833333</td>\n",
       "      <td>16994.222222</td>\n",
       "    </tr>\n",
       "  </tbody>\n",
       "</table>\n",
       "</div>"
      ],
      "text/plain": [
       "                   price                                            \\\n",
       "body-style   convertible       hardtop     hatchback         sedan   \n",
       "drive-wheels                                                         \n",
       "4wd                  NaN           NaN   7603.000000  12647.333333   \n",
       "fwd              11595.0   8249.000000   8396.387755   9735.166667   \n",
       "rwd              23949.6  24202.714286  14210.588235  21711.833333   \n",
       "\n",
       "                            \n",
       "body-style           wagon  \n",
       "drive-wheels                \n",
       "4wd            9095.750000  \n",
       "fwd            9997.333333  \n",
       "rwd           16994.222222  "
      ]
     },
     "execution_count": 32,
     "metadata": {},
     "output_type": "execute_result"
    }
   ],
   "source": [
    "grouped_pivot = grouped_test1.pivot(index='drive-wheels',columns='body-style')\n",
    "grouped_pivot"
   ]
  },
  {
   "cell_type": "markdown",
   "metadata": {},
   "source": [
    "<p>Often, we won't have data for some of the pivot cells. We can fill these missing cells with the value 0, but any other value could potentially be used as well. It should be mentioned that missing data is quite a complex subject and is an entire course on its own.</p>\n"
   ]
  },
  {
   "cell_type": "code",
   "execution_count": 33,
   "metadata": {
    "scrolled": true
   },
   "outputs": [
    {
     "data": {
      "text/html": [
       "<div>\n",
       "<style scoped>\n",
       "    .dataframe tbody tr th:only-of-type {\n",
       "        vertical-align: middle;\n",
       "    }\n",
       "\n",
       "    .dataframe tbody tr th {\n",
       "        vertical-align: top;\n",
       "    }\n",
       "\n",
       "    .dataframe thead tr th {\n",
       "        text-align: left;\n",
       "    }\n",
       "\n",
       "    .dataframe thead tr:last-of-type th {\n",
       "        text-align: right;\n",
       "    }\n",
       "</style>\n",
       "<table border=\"1\" class=\"dataframe\">\n",
       "  <thead>\n",
       "    <tr>\n",
       "      <th></th>\n",
       "      <th colspan=\"5\" halign=\"left\">price</th>\n",
       "    </tr>\n",
       "    <tr>\n",
       "      <th>body-style</th>\n",
       "      <th>convertible</th>\n",
       "      <th>hardtop</th>\n",
       "      <th>hatchback</th>\n",
       "      <th>sedan</th>\n",
       "      <th>wagon</th>\n",
       "    </tr>\n",
       "    <tr>\n",
       "      <th>drive-wheels</th>\n",
       "      <th></th>\n",
       "      <th></th>\n",
       "      <th></th>\n",
       "      <th></th>\n",
       "      <th></th>\n",
       "    </tr>\n",
       "  </thead>\n",
       "  <tbody>\n",
       "    <tr>\n",
       "      <th>4wd</th>\n",
       "      <td>0.0</td>\n",
       "      <td>0.000000</td>\n",
       "      <td>7603.000000</td>\n",
       "      <td>12647.333333</td>\n",
       "      <td>9095.750000</td>\n",
       "    </tr>\n",
       "    <tr>\n",
       "      <th>fwd</th>\n",
       "      <td>11595.0</td>\n",
       "      <td>8249.000000</td>\n",
       "      <td>8396.387755</td>\n",
       "      <td>9735.166667</td>\n",
       "      <td>9997.333333</td>\n",
       "    </tr>\n",
       "    <tr>\n",
       "      <th>rwd</th>\n",
       "      <td>23949.6</td>\n",
       "      <td>24202.714286</td>\n",
       "      <td>14210.588235</td>\n",
       "      <td>21711.833333</td>\n",
       "      <td>16994.222222</td>\n",
       "    </tr>\n",
       "  </tbody>\n",
       "</table>\n",
       "</div>"
      ],
      "text/plain": [
       "                   price                                            \\\n",
       "body-style   convertible       hardtop     hatchback         sedan   \n",
       "drive-wheels                                                         \n",
       "4wd                  0.0      0.000000   7603.000000  12647.333333   \n",
       "fwd              11595.0   8249.000000   8396.387755   9735.166667   \n",
       "rwd              23949.6  24202.714286  14210.588235  21711.833333   \n",
       "\n",
       "                            \n",
       "body-style           wagon  \n",
       "drive-wheels                \n",
       "4wd            9095.750000  \n",
       "fwd            9997.333333  \n",
       "rwd           16994.222222  "
      ]
     },
     "execution_count": 33,
     "metadata": {},
     "output_type": "execute_result"
    }
   ],
   "source": [
    "grouped_pivot = grouped_pivot.fillna(0) #fill missing values with 0\n",
    "grouped_pivot"
   ]
  },
  {
   "cell_type": "markdown",
   "metadata": {},
   "source": [
    "<div class=\"alert alert-danger alertdanger\" style=\"margin-top: 20px\">\n",
    "<h1>Question 4:</h1>\n",
    "\n",
    "<p>Use the \"groupby\" function to find the average \"price\" of each car based on \"body-style\".</p>\n",
    "</div>\n"
   ]
  },
  {
   "cell_type": "code",
   "execution_count": 34,
   "metadata": {},
   "outputs": [],
   "source": [
    "# Write your code below and press Shift+Enter to execute \n"
   ]
  },
  {
   "cell_type": "markdown",
   "metadata": {},
   "source": [
    "<details><summary>Click here for the solution</summary>\n",
    "\n",
    "```python\n",
    "# grouping results\n",
    "df_gptest2 = df[['body-style','price']]\n",
    "grouped_test_bodystyle = df_gptest2.groupby(['body-style'],as_index= False).mean()\n",
    "grouped_test_bodystyle\n",
    "\n",
    "```\n",
    "\n",
    "</details>\n"
   ]
  },
  {
   "cell_type": "markdown",
   "metadata": {},
   "source": [
    "If you did not import \"pyplot\", let's do it again. \n"
   ]
  },
  {
   "cell_type": "code",
   "execution_count": 35,
   "metadata": {},
   "outputs": [],
   "source": [
    "import matplotlib.pyplot as plt\n",
    "%matplotlib inline "
   ]
  },
  {
   "cell_type": "markdown",
   "metadata": {},
   "source": [
    "<h4>Variables: Drive Wheels and Body Style vs. Price</h4>\n"
   ]
  },
  {
   "cell_type": "markdown",
   "metadata": {},
   "source": [
    "Let's use a heat map to visualize the relationship between Body Style vs Price.\n"
   ]
  },
  {
   "cell_type": "code",
   "execution_count": 36,
   "metadata": {},
   "outputs": [
    {
     "data": {
      "image/png": "[encoded data removed]",
      "text/plain": [
       "<Figure size 432x288 with 2 Axes>"
      ]
     },
     "metadata": {
      "needs_background": "light"
     },
     "output_type": "display_data"
    }
   ],
   "source": [
    "#use the grouped results\n",
    "plt.pcolor(grouped_pivot, cmap='RdBu')\n",
    "plt.colorbar()\n",
    "plt.show()"
   ]
  },
  {
   "cell_type": "markdown",
   "metadata": {},
   "source": [
    "<p>The heatmap plots the target variable (price) proportional to colour with respect to the variables 'drive-wheel' and 'body-style' on the vertical and horizontal axis, respectively. This allows us to visualize how the price is related to 'drive-wheel' and 'body-style'.</p>\n",
    "\n",
    "<p>The default labels convey no useful information to us. Let's change that:</p>\n"
   ]
  },
  {
   "cell_type": "code",
   "execution_count": 37,
   "metadata": {},
   "outputs": [
    {
     "data": {
      "image/png": "[encoded data removed]",
      "text/plain": [
       "<Figure size 432x288 with 2 Axes>"
      ]
     },
     "metadata": {
      "needs_background": "light"
     },
     "output_type": "display_data"
    }
   ],
   "source": [
    "fig, ax = plt.subplots()\n",
    "im = ax.pcolor(grouped_pivot, cmap='RdBu')\n",
    "\n",
    "#label names\n",
    "row_labels = grouped_pivot.columns.levels[1]\n",
    "col_labels = grouped_pivot.index\n",
    "\n",
    "#move ticks and labels to the center\n",
    "ax.set_xticks(np.arange(grouped_pivot.shape[1]) + 0.5, minor=False)\n",
    "ax.set_yticks(np.arange(grouped_pivot.shape[0]) + 0.5, minor=False)\n",
    "\n",
    "#insert labels\n",
    "ax.set_xticklabels(row_labels, minor=False)\n",
    "ax.set_yticklabels(col_labels, minor=False)\n",
    "\n",
    "#rotate label if too long\n",
    "plt.xticks(rotation=90)\n",
    "\n",
    "fig.colorbar(im)\n",
    "plt.show()"
   ]
  },
  {
   "cell_type": "markdown",
   "metadata": {},
   "source": [
    "<p>Visualization is very important in data science, and Python visualization packages provide great freedom. We will go more in-depth in a separate Python visualizations course.</p>\n",
    "\n",
    "<p>The main question we want to answer in this module is, \"What are the main characteristics which have the most impact on the car price?\".</p>\n",
    "\n",
    "<p>To get a better measure of the important characteristics, we look at the correlation of these variables with the car price. In other words: how is the car price dependent on this variable?</p>\n"
   ]
  },
  {
   "cell_type": "markdown",
   "metadata": {},
   "source": [
    "<h2 id=\"correlation_causation\">5. Correlation and Causation</h2>\n"
   ]
  },
  {
   "cell_type": "markdown",
   "metadata": {},
   "source": [
    "<p><b>Correlation</b>: a measure of the extent of interdependence between variables.</p>\n",
    "\n",
    "<p><b>Causation</b>: the relationship between cause and effect between two variables.</p>\n",
    "\n",
    "<p>It is important to know the difference between these two. Correlation does not imply causation. Determining correlation is much simpler  the determining causation as causation may require independent experimentation.</p>\n"
   ]
  },
  {
   "cell_type": "markdown",
   "metadata": {},
   "source": [
    "<p><b>Pearson Correlation</b></p>\n",
    "<p>The Pearson Correlation measures the linear dependence between two variables X and Y.</p>\n",
    "<p>The resulting coefficient is a value between -1 and 1 inclusive, where:</p>\n",
    "<ul>\n",
    "    <li><b>1</b>: Perfect positive linear correlation.</li>\n",
    "    <li><b>0</b>: No linear correlation, the two variables most likely do not affect each other.</li>\n",
    "    <li><b>-1</b>: Perfect negative linear correlation.</li>\n",
    "</ul>\n"
   ]
  },
  {
   "cell_type": "markdown",
   "metadata": {},
   "source": [
    "<p>Pearson Correlation is the default method of the function \"corr\". Like before, we can calculate the Pearson Correlation of the of the 'int64' or 'float64'  variables.</p>\n"
   ]
  },
  {
   "cell_type": "code",
   "execution_count": 38,
   "metadata": {},
   "outputs": [
    {
     "data": {
      "text/html": [
       "<div>\n",
       "<style scoped>\n",
       "    .dataframe tbody tr th:only-of-type {\n",
       "        vertical-align: middle;\n",
       "    }\n",
       "\n",
       "    .dataframe tbody tr th {\n",
       "        vertical-align: top;\n",
       "    }\n",
       "\n",
       "    .dataframe thead th {\n",
       "        text-align: right;\n",
       "    }\n",
       "</style>\n",
       "<table border=\"1\" class=\"dataframe\">\n",
       "  <thead>\n",
       "    <tr style=\"text-align: right;\">\n",
       "      <th></th>\n",
       "      <th>Unnamed: 0</th>\n",
       "      <th>symboling</th>\n",
       "      <th>normalized-losses</th>\n",
       "      <th>wheel-base</th>\n",
       "      <th>length</th>\n",
       "      <th>width</th>\n",
       "      <th>height</th>\n",
       "      <th>curb-weight</th>\n",
       "      <th>engine-size</th>\n",
       "      <th>bore</th>\n",
       "      <th>...</th>\n",
       "      <th>compression-ratio</th>\n",
       "      <th>horsepower</th>\n",
       "      <th>peak- rpm</th>\n",
       "      <th>city-mpg</th>\n",
       "      <th>highway-mpg</th>\n",
       "      <th>price</th>\n",
       "      <th>fuel-type-diesel</th>\n",
       "      <th>fuel-type-gas</th>\n",
       "      <th>aspiration-type-std</th>\n",
       "      <th>turbo</th>\n",
       "    </tr>\n",
       "  </thead>\n",
       "  <tbody>\n",
       "    <tr>\n",
       "      <th>Unnamed: 0</th>\n",
       "      <td>1.000000</td>\n",
       "      <td>-0.155969</td>\n",
       "      <td>-0.234082</td>\n",
       "      <td>0.122285</td>\n",
       "      <td>0.163742</td>\n",
       "      <td>0.036611</td>\n",
       "      <td>0.252383</td>\n",
       "      <td>0.066718</td>\n",
       "      <td>-0.046979</td>\n",
       "      <td>0.226458</td>\n",
       "      <td>...</td>\n",
       "      <td>0.143550</td>\n",
       "      <td>-0.011449</td>\n",
       "      <td>-0.194346</td>\n",
       "      <td>0.018316</td>\n",
       "      <td>0.013678</td>\n",
       "      <td>-0.115596</td>\n",
       "      <td>0.117539</td>\n",
       "      <td>-0.117539</td>\n",
       "      <td>-0.075900</td>\n",
       "      <td>0.075900</td>\n",
       "    </tr>\n",
       "    <tr>\n",
       "      <th>symboling</th>\n",
       "      <td>-0.155969</td>\n",
       "      <td>1.000000</td>\n",
       "      <td>0.462930</td>\n",
       "      <td>-0.538178</td>\n",
       "      <td>-0.367041</td>\n",
       "      <td>-0.236506</td>\n",
       "      <td>-0.552509</td>\n",
       "      <td>-0.232263</td>\n",
       "      <td>-0.109371</td>\n",
       "      <td>-0.137923</td>\n",
       "      <td>...</td>\n",
       "      <td>-0.182252</td>\n",
       "      <td>0.075605</td>\n",
       "      <td>0.277277</td>\n",
       "      <td>-0.034196</td>\n",
       "      <td>0.037282</td>\n",
       "      <td>-0.083319</td>\n",
       "      <td>-0.195512</td>\n",
       "      <td>0.195512</td>\n",
       "      <td>0.052315</td>\n",
       "      <td>-0.052315</td>\n",
       "    </tr>\n",
       "    <tr>\n",
       "      <th>normalized-losses</th>\n",
       "      <td>-0.234082</td>\n",
       "      <td>0.462930</td>\n",
       "      <td>1.000000</td>\n",
       "      <td>-0.058775</td>\n",
       "      <td>0.017165</td>\n",
       "      <td>0.085451</td>\n",
       "      <td>-0.377131</td>\n",
       "      <td>0.101506</td>\n",
       "      <td>0.114438</td>\n",
       "      <td>-0.027458</td>\n",
       "      <td>...</td>\n",
       "      <td>-0.115028</td>\n",
       "      <td>0.218228</td>\n",
       "      <td>0.235979</td>\n",
       "      <td>-0.224197</td>\n",
       "      <td>-0.181093</td>\n",
       "      <td>0.132571</td>\n",
       "      <td>-0.100023</td>\n",
       "      <td>0.100023</td>\n",
       "      <td>0.004000</td>\n",
       "      <td>-0.004000</td>\n",
       "    </tr>\n",
       "    <tr>\n",
       "      <th>wheel-base</th>\n",
       "      <td>0.122285</td>\n",
       "      <td>-0.538178</td>\n",
       "      <td>-0.058775</td>\n",
       "      <td>1.000000</td>\n",
       "      <td>0.876376</td>\n",
       "      <td>0.809109</td>\n",
       "      <td>0.589893</td>\n",
       "      <td>0.786197</td>\n",
       "      <td>0.576084</td>\n",
       "      <td>0.493235</td>\n",
       "      <td>...</td>\n",
       "      <td>0.249698</td>\n",
       "      <td>0.378267</td>\n",
       "      <td>-0.362936</td>\n",
       "      <td>-0.475657</td>\n",
       "      <td>-0.547058</td>\n",
       "      <td>0.587085</td>\n",
       "      <td>0.306906</td>\n",
       "      <td>-0.306906</td>\n",
       "      <td>-0.256232</td>\n",
       "      <td>0.256232</td>\n",
       "    </tr>\n",
       "    <tr>\n",
       "      <th>length</th>\n",
       "      <td>0.163742</td>\n",
       "      <td>-0.367041</td>\n",
       "      <td>0.017165</td>\n",
       "      <td>0.876376</td>\n",
       "      <td>1.000000</td>\n",
       "      <td>0.856795</td>\n",
       "      <td>0.491732</td>\n",
       "      <td>0.882905</td>\n",
       "      <td>0.687294</td>\n",
       "      <td>0.616190</td>\n",
       "      <td>...</td>\n",
       "      <td>0.159492</td>\n",
       "      <td>0.584325</td>\n",
       "      <td>-0.287632</td>\n",
       "      <td>-0.667963</td>\n",
       "      <td>-0.699903</td>\n",
       "      <td>0.691525</td>\n",
       "      <td>0.211274</td>\n",
       "      <td>-0.211274</td>\n",
       "      <td>-0.230278</td>\n",
       "      <td>0.230278</td>\n",
       "    </tr>\n",
       "    <tr>\n",
       "      <th>width</th>\n",
       "      <td>0.036611</td>\n",
       "      <td>-0.236506</td>\n",
       "      <td>0.085451</td>\n",
       "      <td>0.809109</td>\n",
       "      <td>0.856795</td>\n",
       "      <td>1.000000</td>\n",
       "      <td>0.297394</td>\n",
       "      <td>0.869606</td>\n",
       "      <td>0.733091</td>\n",
       "      <td>0.554939</td>\n",
       "      <td>...</td>\n",
       "      <td>0.188775</td>\n",
       "      <td>0.621333</td>\n",
       "      <td>-0.248603</td>\n",
       "      <td>-0.639925</td>\n",
       "      <td>-0.685733</td>\n",
       "      <td>0.753570</td>\n",
       "      <td>0.243458</td>\n",
       "      <td>-0.243458</td>\n",
       "      <td>-0.304541</td>\n",
       "      <td>0.304541</td>\n",
       "    </tr>\n",
       "    <tr>\n",
       "      <th>height</th>\n",
       "      <td>0.252383</td>\n",
       "      <td>-0.552509</td>\n",
       "      <td>-0.377131</td>\n",
       "      <td>0.589893</td>\n",
       "      <td>0.491732</td>\n",
       "      <td>0.297394</td>\n",
       "      <td>1.000000</td>\n",
       "      <td>0.310109</td>\n",
       "      <td>0.077028</td>\n",
       "      <td>0.176636</td>\n",
       "      <td>...</td>\n",
       "      <td>0.259257</td>\n",
       "      <td>-0.083632</td>\n",
       "      <td>-0.312347</td>\n",
       "      <td>-0.052469</td>\n",
       "      <td>-0.106855</td>\n",
       "      <td>0.136731</td>\n",
       "      <td>0.281418</td>\n",
       "      <td>-0.281418</td>\n",
       "      <td>-0.089714</td>\n",
       "      <td>0.089714</td>\n",
       "    </tr>\n",
       "    <tr>\n",
       "      <th>curb-weight</th>\n",
       "      <td>0.066718</td>\n",
       "      <td>-0.232263</td>\n",
       "      <td>0.101506</td>\n",
       "      <td>0.786197</td>\n",
       "      <td>0.882905</td>\n",
       "      <td>0.869606</td>\n",
       "      <td>0.310109</td>\n",
       "      <td>1.000000</td>\n",
       "      <td>0.848714</td>\n",
       "      <td>0.660207</td>\n",
       "      <td>...</td>\n",
       "      <td>0.157307</td>\n",
       "      <td>0.758747</td>\n",
       "      <td>-0.277831</td>\n",
       "      <td>-0.750090</td>\n",
       "      <td>-0.795176</td>\n",
       "      <td>0.834850</td>\n",
       "      <td>0.221573</td>\n",
       "      <td>-0.221573</td>\n",
       "      <td>-0.322891</td>\n",
       "      <td>0.322891</td>\n",
       "    </tr>\n",
       "    <tr>\n",
       "      <th>engine-size</th>\n",
       "      <td>-0.046979</td>\n",
       "      <td>-0.109371</td>\n",
       "      <td>0.114438</td>\n",
       "      <td>0.576084</td>\n",
       "      <td>0.687294</td>\n",
       "      <td>0.733091</td>\n",
       "      <td>0.077028</td>\n",
       "      <td>0.848714</td>\n",
       "      <td>1.000000</td>\n",
       "      <td>0.588455</td>\n",
       "      <td>...</td>\n",
       "      <td>0.029728</td>\n",
       "      <td>0.823422</td>\n",
       "      <td>-0.255073</td>\n",
       "      <td>-0.650494</td>\n",
       "      <td>-0.679467</td>\n",
       "      <td>0.872880</td>\n",
       "      <td>0.071209</td>\n",
       "      <td>-0.071209</td>\n",
       "      <td>-0.110724</td>\n",
       "      <td>0.110724</td>\n",
       "    </tr>\n",
       "    <tr>\n",
       "      <th>bore</th>\n",
       "      <td>0.226458</td>\n",
       "      <td>-0.137923</td>\n",
       "      <td>-0.027458</td>\n",
       "      <td>0.493235</td>\n",
       "      <td>0.616190</td>\n",
       "      <td>0.554939</td>\n",
       "      <td>0.176636</td>\n",
       "      <td>0.660207</td>\n",
       "      <td>0.588455</td>\n",
       "      <td>1.000000</td>\n",
       "      <td>...</td>\n",
       "      <td>-0.002494</td>\n",
       "      <td>0.595417</td>\n",
       "      <td>-0.272439</td>\n",
       "      <td>-0.605579</td>\n",
       "      <td>-0.610602</td>\n",
       "      <td>0.557436</td>\n",
       "      <td>0.050229</td>\n",
       "      <td>-0.050229</td>\n",
       "      <td>-0.224486</td>\n",
       "      <td>0.224486</td>\n",
       "    </tr>\n",
       "    <tr>\n",
       "      <th>stroke</th>\n",
       "      <td>-0.157235</td>\n",
       "      <td>-0.011127</td>\n",
       "      <td>0.052370</td>\n",
       "      <td>0.161094</td>\n",
       "      <td>0.124809</td>\n",
       "      <td>0.181923</td>\n",
       "      <td>-0.061224</td>\n",
       "      <td>0.167270</td>\n",
       "      <td>0.209231</td>\n",
       "      <td>-0.046741</td>\n",
       "      <td>...</td>\n",
       "      <td>0.189386</td>\n",
       "      <td>0.094384</td>\n",
       "      <td>-0.067269</td>\n",
       "      <td>-0.030916</td>\n",
       "      <td>-0.032564</td>\n",
       "      <td>0.080860</td>\n",
       "      <td>0.243779</td>\n",
       "      <td>-0.243779</td>\n",
       "      <td>-0.222011</td>\n",
       "      <td>0.222011</td>\n",
       "    </tr>\n",
       "    <tr>\n",
       "      <th>compression-ratio</th>\n",
       "      <td>0.143550</td>\n",
       "      <td>-0.182252</td>\n",
       "      <td>-0.115028</td>\n",
       "      <td>0.249698</td>\n",
       "      <td>0.159492</td>\n",
       "      <td>0.188775</td>\n",
       "      <td>0.259257</td>\n",
       "      <td>0.157307</td>\n",
       "      <td>0.029728</td>\n",
       "      <td>-0.002494</td>\n",
       "      <td>...</td>\n",
       "      <td>1.000000</td>\n",
       "      <td>-0.213552</td>\n",
       "      <td>-0.436821</td>\n",
       "      <td>0.330851</td>\n",
       "      <td>0.267822</td>\n",
       "      <td>0.071781</td>\n",
       "      <td>0.985437</td>\n",
       "      <td>-0.985437</td>\n",
       "      <td>-0.307145</td>\n",
       "      <td>0.307145</td>\n",
       "    </tr>\n",
       "    <tr>\n",
       "      <th>horsepower</th>\n",
       "      <td>-0.011449</td>\n",
       "      <td>0.075605</td>\n",
       "      <td>0.218228</td>\n",
       "      <td>0.378267</td>\n",
       "      <td>0.584325</td>\n",
       "      <td>0.621333</td>\n",
       "      <td>-0.083632</td>\n",
       "      <td>0.758747</td>\n",
       "      <td>0.823422</td>\n",
       "      <td>0.595417</td>\n",
       "      <td>...</td>\n",
       "      <td>-0.213552</td>\n",
       "      <td>1.000000</td>\n",
       "      <td>0.110384</td>\n",
       "      <td>-0.821449</td>\n",
       "      <td>-0.804607</td>\n",
       "      <td>0.810913</td>\n",
       "      <td>-0.167695</td>\n",
       "      <td>0.167695</td>\n",
       "      <td>-0.255715</td>\n",
       "      <td>0.255715</td>\n",
       "    </tr>\n",
       "    <tr>\n",
       "      <th>peak- rpm</th>\n",
       "      <td>-0.194346</td>\n",
       "      <td>0.277277</td>\n",
       "      <td>0.235979</td>\n",
       "      <td>-0.362936</td>\n",
       "      <td>-0.287632</td>\n",
       "      <td>-0.248603</td>\n",
       "      <td>-0.312347</td>\n",
       "      <td>-0.277831</td>\n",
       "      <td>-0.255073</td>\n",
       "      <td>-0.272439</td>\n",
       "      <td>...</td>\n",
       "      <td>-0.436821</td>\n",
       "      <td>0.110384</td>\n",
       "      <td>1.000000</td>\n",
       "      <td>-0.116323</td>\n",
       "      <td>-0.059207</td>\n",
       "      <td>-0.101700</td>\n",
       "      <td>-0.475976</td>\n",
       "      <td>0.475976</td>\n",
       "      <td>0.189282</td>\n",
       "      <td>-0.189282</td>\n",
       "    </tr>\n",
       "    <tr>\n",
       "      <th>city-mpg</th>\n",
       "      <td>0.018316</td>\n",
       "      <td>-0.034196</td>\n",
       "      <td>-0.224197</td>\n",
       "      <td>-0.475657</td>\n",
       "      <td>-0.667963</td>\n",
       "      <td>-0.639925</td>\n",
       "      <td>-0.052469</td>\n",
       "      <td>-0.750090</td>\n",
       "      <td>-0.650494</td>\n",
       "      <td>-0.605579</td>\n",
       "      <td>...</td>\n",
       "      <td>0.330851</td>\n",
       "      <td>-0.821449</td>\n",
       "      <td>-0.116323</td>\n",
       "      <td>1.000000</td>\n",
       "      <td>0.972150</td>\n",
       "      <td>-0.686448</td>\n",
       "      <td>0.264543</td>\n",
       "      <td>-0.264543</td>\n",
       "      <td>0.192609</td>\n",
       "      <td>-0.192609</td>\n",
       "    </tr>\n",
       "    <tr>\n",
       "      <th>highway-mpg</th>\n",
       "      <td>0.013678</td>\n",
       "      <td>0.037282</td>\n",
       "      <td>-0.181093</td>\n",
       "      <td>-0.547058</td>\n",
       "      <td>-0.699903</td>\n",
       "      <td>-0.685733</td>\n",
       "      <td>-0.106855</td>\n",
       "      <td>-0.795176</td>\n",
       "      <td>-0.679467</td>\n",
       "      <td>-0.610602</td>\n",
       "      <td>...</td>\n",
       "      <td>0.267822</td>\n",
       "      <td>-0.804607</td>\n",
       "      <td>-0.059207</td>\n",
       "      <td>0.972150</td>\n",
       "      <td>1.000000</td>\n",
       "      <td>-0.704387</td>\n",
       "      <td>0.197720</td>\n",
       "      <td>-0.197720</td>\n",
       "      <td>0.244271</td>\n",
       "      <td>-0.244271</td>\n",
       "    </tr>\n",
       "    <tr>\n",
       "      <th>price</th>\n",
       "      <td>-0.115596</td>\n",
       "      <td>-0.083319</td>\n",
       "      <td>0.132571</td>\n",
       "      <td>0.587085</td>\n",
       "      <td>0.691525</td>\n",
       "      <td>0.753570</td>\n",
       "      <td>0.136731</td>\n",
       "      <td>0.834850</td>\n",
       "      <td>0.872880</td>\n",
       "      <td>0.557436</td>\n",
       "      <td>...</td>\n",
       "      <td>0.071781</td>\n",
       "      <td>0.810913</td>\n",
       "      <td>-0.101700</td>\n",
       "      <td>-0.686448</td>\n",
       "      <td>-0.704387</td>\n",
       "      <td>1.000000</td>\n",
       "      <td>0.111288</td>\n",
       "      <td>-0.111288</td>\n",
       "      <td>-0.181054</td>\n",
       "      <td>0.181054</td>\n",
       "    </tr>\n",
       "    <tr>\n",
       "      <th>fuel-type-diesel</th>\n",
       "      <td>0.117539</td>\n",
       "      <td>-0.195512</td>\n",
       "      <td>-0.100023</td>\n",
       "      <td>0.306906</td>\n",
       "      <td>0.211274</td>\n",
       "      <td>0.243458</td>\n",
       "      <td>0.281418</td>\n",
       "      <td>0.221573</td>\n",
       "      <td>0.071209</td>\n",
       "      <td>0.050229</td>\n",
       "      <td>...</td>\n",
       "      <td>0.985437</td>\n",
       "      <td>-0.167695</td>\n",
       "      <td>-0.475976</td>\n",
       "      <td>0.264543</td>\n",
       "      <td>0.197720</td>\n",
       "      <td>0.111288</td>\n",
       "      <td>1.000000</td>\n",
       "      <td>-1.000000</td>\n",
       "      <td>-0.407341</td>\n",
       "      <td>0.407341</td>\n",
       "    </tr>\n",
       "    <tr>\n",
       "      <th>fuel-type-gas</th>\n",
       "      <td>-0.117539</td>\n",
       "      <td>0.195512</td>\n",
       "      <td>0.100023</td>\n",
       "      <td>-0.306906</td>\n",
       "      <td>-0.211274</td>\n",
       "      <td>-0.243458</td>\n",
       "      <td>-0.281418</td>\n",
       "      <td>-0.221573</td>\n",
       "      <td>-0.071209</td>\n",
       "      <td>-0.050229</td>\n",
       "      <td>...</td>\n",
       "      <td>-0.985437</td>\n",
       "      <td>0.167695</td>\n",
       "      <td>0.475976</td>\n",
       "      <td>-0.264543</td>\n",
       "      <td>-0.197720</td>\n",
       "      <td>-0.111288</td>\n",
       "      <td>-1.000000</td>\n",
       "      <td>1.000000</td>\n",
       "      <td>0.407341</td>\n",
       "      <td>-0.407341</td>\n",
       "    </tr>\n",
       "    <tr>\n",
       "      <th>aspiration-type-std</th>\n",
       "      <td>-0.075900</td>\n",
       "      <td>0.052315</td>\n",
       "      <td>0.004000</td>\n",
       "      <td>-0.256232</td>\n",
       "      <td>-0.230278</td>\n",
       "      <td>-0.304541</td>\n",
       "      <td>-0.089714</td>\n",
       "      <td>-0.322891</td>\n",
       "      <td>-0.110724</td>\n",
       "      <td>-0.224486</td>\n",
       "      <td>...</td>\n",
       "      <td>-0.307145</td>\n",
       "      <td>-0.255715</td>\n",
       "      <td>0.189282</td>\n",
       "      <td>0.192609</td>\n",
       "      <td>0.244271</td>\n",
       "      <td>-0.181054</td>\n",
       "      <td>-0.407341</td>\n",
       "      <td>0.407341</td>\n",
       "      <td>1.000000</td>\n",
       "      <td>-1.000000</td>\n",
       "    </tr>\n",
       "    <tr>\n",
       "      <th>turbo</th>\n",
       "      <td>0.075900</td>\n",
       "      <td>-0.052315</td>\n",
       "      <td>-0.004000</td>\n",
       "      <td>0.256232</td>\n",
       "      <td>0.230278</td>\n",
       "      <td>0.304541</td>\n",
       "      <td>0.089714</td>\n",
       "      <td>0.322891</td>\n",
       "      <td>0.110724</td>\n",
       "      <td>0.224486</td>\n",
       "      <td>...</td>\n",
       "      <td>0.307145</td>\n",
       "      <td>0.255715</td>\n",
       "      <td>-0.189282</td>\n",
       "      <td>-0.192609</td>\n",
       "      <td>-0.244271</td>\n",
       "      <td>0.181054</td>\n",
       "      <td>0.407341</td>\n",
       "      <td>-0.407341</td>\n",
       "      <td>-1.000000</td>\n",
       "      <td>1.000000</td>\n",
       "    </tr>\n",
       "  </tbody>\n",
       "</table>\n",
       "<p>21 rows × 21 columns</p>\n",
       "</div>"
      ],
      "text/plain": [
       "                     Unnamed: 0  symboling  normalized-losses  wheel-base  \\\n",
       "Unnamed: 0             1.000000  -0.155969          -0.234082    0.122285   \n",
       "symboling             -0.155969   1.000000           0.462930   -0.538178   \n",
       "normalized-losses     -0.234082   0.462930           1.000000   -0.058775   \n",
       "wheel-base             0.122285  -0.538178          -0.058775    1.000000   \n",
       "length                 0.163742  -0.367041           0.017165    0.876376   \n",
       "width                  0.036611  -0.236506           0.085451    0.809109   \n",
       "height                 0.252383  -0.552509          -0.377131    0.589893   \n",
       "curb-weight            0.066718  -0.232263           0.101506    0.786197   \n",
       "engine-size           -0.046979  -0.109371           0.114438    0.576084   \n",
       "bore                   0.226458  -0.137923          -0.027458    0.493235   \n",
       "stroke                -0.157235  -0.011127           0.052370    0.161094   \n",
       "compression-ratio      0.143550  -0.182252          -0.115028    0.249698   \n",
       "horsepower            -0.011449   0.075605           0.218228    0.378267   \n",
       "peak- rpm             -0.194346   0.277277           0.235979   -0.362936   \n",
       "city-mpg               0.018316  -0.034196          -0.224197   -0.475657   \n",
       "highway-mpg            0.013678   0.037282          -0.181093   -0.547058   \n",
       "price                 -0.115596  -0.083319           0.132571    0.587085   \n",
       "fuel-type-diesel       0.117539  -0.195512          -0.100023    0.306906   \n",
       "fuel-type-gas         -0.117539   0.195512           0.100023   -0.306906   \n",
       "aspiration-type-std   -0.075900   0.052315           0.004000   -0.256232   \n",
       "turbo                  0.075900  -0.052315          -0.004000    0.256232   \n",
       "\n",
       "                       length     width    height  curb-weight  engine-size  \\\n",
       "Unnamed: 0           0.163742  0.036611  0.252383     0.066718    -0.046979   \n",
       "symboling           -0.367041 -0.236506 -0.552509    -0.232263    -0.109371   \n",
       "normalized-losses    0.017165  0.085451 -0.377131     0.101506     0.114438   \n",
       "wheel-base           0.876376  0.809109  0.589893     0.786197     0.576084   \n",
       "length               1.000000  0.856795  0.491732     0.882905     0.687294   \n",
       "width                0.856795  1.000000  0.297394     0.869606     0.733091   \n",
       "height               0.491732  0.297394  1.000000     0.310109     0.077028   \n",
       "curb-weight          0.882905  0.869606  0.310109     1.000000     0.848714   \n",
       "engine-size          0.687294  0.733091  0.077028     0.848714     1.000000   \n",
       "bore                 0.616190  0.554939  0.176636     0.660207     0.588455   \n",
       "stroke               0.124809  0.181923 -0.061224     0.167270     0.209231   \n",
       "compression-ratio    0.159492  0.188775  0.259257     0.157307     0.029728   \n",
       "horsepower           0.584325  0.621333 -0.083632     0.758747     0.823422   \n",
       "peak- rpm           -0.287632 -0.248603 -0.312347    -0.277831    -0.255073   \n",
       "city-mpg            -0.667963 -0.639925 -0.052469    -0.750090    -0.650494   \n",
       "highway-mpg         -0.699903 -0.685733 -0.106855    -0.795176    -0.679467   \n",
       "price                0.691525  0.753570  0.136731     0.834850     0.872880   \n",
       "fuel-type-diesel     0.211274  0.243458  0.281418     0.221573     0.071209   \n",
       "fuel-type-gas       -0.211274 -0.243458 -0.281418    -0.221573    -0.071209   \n",
       "aspiration-type-std -0.230278 -0.304541 -0.089714    -0.322891    -0.110724   \n",
       "turbo                0.230278  0.304541  0.089714     0.322891     0.110724   \n",
       "\n",
       "                         bore  ...  compression-ratio  horsepower  peak- rpm  \\\n",
       "Unnamed: 0           0.226458  ...           0.143550   -0.011449  -0.194346   \n",
       "symboling           -0.137923  ...          -0.182252    0.075605   0.277277   \n",
       "normalized-losses   -0.027458  ...          -0.115028    0.218228   0.235979   \n",
       "wheel-base           0.493235  ...           0.249698    0.378267  -0.362936   \n",
       "length               0.616190  ...           0.159492    0.584325  -0.287632   \n",
       "width                0.554939  ...           0.188775    0.621333  -0.248603   \n",
       "height               0.176636  ...           0.259257   -0.083632  -0.312347   \n",
       "curb-weight          0.660207  ...           0.157307    0.758747  -0.277831   \n",
       "engine-size          0.588455  ...           0.029728    0.823422  -0.255073   \n",
       "bore                 1.000000  ...          -0.002494    0.595417  -0.272439   \n",
       "stroke              -0.046741  ...           0.189386    0.094384  -0.067269   \n",
       "compression-ratio   -0.002494  ...           1.000000   -0.213552  -0.436821   \n",
       "horsepower           0.595417  ...          -0.213552    1.000000   0.110384   \n",
       "peak- rpm           -0.272439  ...          -0.436821    0.110384   1.000000   \n",
       "city-mpg            -0.605579  ...           0.330851   -0.821449  -0.116323   \n",
       "highway-mpg         -0.610602  ...           0.267822   -0.804607  -0.059207   \n",
       "price                0.557436  ...           0.071781    0.810913  -0.101700   \n",
       "fuel-type-diesel     0.050229  ...           0.985437   -0.167695  -0.475976   \n",
       "fuel-type-gas       -0.050229  ...          -0.985437    0.167695   0.475976   \n",
       "aspiration-type-std -0.224486  ...          -0.307145   -0.255715   0.189282   \n",
       "turbo                0.224486  ...           0.307145    0.255715  -0.189282   \n",
       "\n",
       "                     city-mpg  highway-mpg     price  fuel-type-diesel  \\\n",
       "Unnamed: 0           0.018316     0.013678 -0.115596          0.117539   \n",
       "symboling           -0.034196     0.037282 -0.083319         -0.195512   \n",
       "normalized-losses   -0.224197    -0.181093  0.132571         -0.100023   \n",
       "wheel-base          -0.475657    -0.547058  0.587085          0.306906   \n",
       "length              -0.667963    -0.699903  0.691525          0.211274   \n",
       "width               -0.639925    -0.685733  0.753570          0.243458   \n",
       "height              -0.052469    -0.106855  0.136731          0.281418   \n",
       "curb-weight         -0.750090    -0.795176  0.834850          0.221573   \n",
       "engine-size         -0.650494    -0.679467  0.872880          0.071209   \n",
       "bore                -0.605579    -0.610602  0.557436          0.050229   \n",
       "stroke              -0.030916    -0.032564  0.080860          0.243779   \n",
       "compression-ratio    0.330851     0.267822  0.071781          0.985437   \n",
       "horsepower          -0.821449    -0.804607  0.810913         -0.167695   \n",
       "peak- rpm           -0.116323    -0.059207 -0.101700         -0.475976   \n",
       "city-mpg             1.000000     0.972150 -0.686448          0.264543   \n",
       "highway-mpg          0.972150     1.000000 -0.704387          0.197720   \n",
       "price               -0.686448    -0.704387  1.000000          0.111288   \n",
       "fuel-type-diesel     0.264543     0.197720  0.111288          1.000000   \n",
       "fuel-type-gas       -0.264543    -0.197720 -0.111288         -1.000000   \n",
       "aspiration-type-std  0.192609     0.244271 -0.181054         -0.407341   \n",
       "turbo               -0.192609    -0.244271  0.181054          0.407341   \n",
       "\n",
       "                     fuel-type-gas  aspiration-type-std     turbo  \n",
       "Unnamed: 0               -0.117539            -0.075900  0.075900  \n",
       "symboling                 0.195512             0.052315 -0.052315  \n",
       "normalized-losses         0.100023             0.004000 -0.004000  \n",
       "wheel-base               -0.306906            -0.256232  0.256232  \n",
       "length                   -0.211274            -0.230278  0.230278  \n",
       "width                    -0.243458            -0.304541  0.304541  \n",
       "height                   -0.281418            -0.089714  0.089714  \n",
       "curb-weight              -0.221573            -0.322891  0.322891  \n",
       "engine-size              -0.071209            -0.110724  0.110724  \n",
       "bore                     -0.050229            -0.224486  0.224486  \n",
       "stroke                   -0.243779            -0.222011  0.222011  \n",
       "compression-ratio        -0.985437            -0.307145  0.307145  \n",
       "horsepower                0.167695            -0.255715  0.255715  \n",
       "peak- rpm                 0.475976             0.189282 -0.189282  \n",
       "city-mpg                 -0.264543             0.192609 -0.192609  \n",
       "highway-mpg              -0.197720             0.244271 -0.244271  \n",
       "price                    -0.111288            -0.181054  0.181054  \n",
       "fuel-type-diesel         -1.000000            -0.407341  0.407341  \n",
       "fuel-type-gas             1.000000             0.407341 -0.407341  \n",
       "aspiration-type-std       0.407341             1.000000 -1.000000  \n",
       "turbo                    -0.407341            -1.000000  1.000000  \n",
       "\n",
       "[21 rows x 21 columns]"
      ]
     },
     "execution_count": 38,
     "metadata": {},
     "output_type": "execute_result"
    }
   ],
   "source": [
    "df.corr()"
   ]
  },
  {
   "cell_type": "markdown",
   "metadata": {},
   "source": [
    "Sometimes we would like to know the significant of the correlation estimate. \n"
   ]
  },
  {
   "cell_type": "markdown",
   "metadata": {},
   "source": [
    "<b>P-value</b>\n",
    "<p>What is this P-value? The P-value is the probability value that the correlation between these two variables is statistically significant. Normally, we choose a significance level of 0.05, which means that we are 95% confident that the correlation between the variables is significant.</p>\n",
    "\n",
    "By convention, when the\n",
    "<ul>\n",
    "    <li>p-value is $<$ 0.001: we say there is strong evidence that the correlation is significant.</li>\n",
    "    <li>the p-value is $<$ 0.05: there is moderate evidence that the correlation is significant.</li>\n",
    "    <li>the p-value is $<$ 0.1: there is weak evidence that the correlation is significant.</li>\n",
    "    <li>the p-value is $>$ 0.1: there is no evidence that the correlation is significant.</li>\n",
    "</ul>\n"
   ]
  },
  {
   "cell_type": "markdown",
   "metadata": {},
   "source": [
    " We can obtain this information using  \"stats\" module in the \"scipy\"  library.\n"
   ]
  },
  {
   "cell_type": "code",
   "execution_count": 39,
   "metadata": {},
   "outputs": [],
   "source": [
    "from scipy import stats"
   ]
  },
  {
   "cell_type": "markdown",
   "metadata": {},
   "source": [
    "<h3>Wheel-Base vs. Price</h3>\n"
   ]
  },
  {
   "cell_type": "markdown",
   "metadata": {},
   "source": [
    "Let's calculate the  Pearson Correlation Coefficient and P-value of 'wheel-base' and 'price'. \n"
   ]
  },
  {
   "cell_type": "code",
   "execution_count": 40,
   "metadata": {},
   "outputs": [
    {
     "name": "stdout",
     "output_type": "stream",
     "text": [
      "The Pearson Correlation Coefficient is 0.5870846065296373  with a P-value of P = 7.995082157670791e-20\n"
     ]
    }
   ],
   "source": [
    "pearson_coef, p_value = stats.pearsonr(df['wheel-base'], df['price'])\n",
    "print(\"The Pearson Correlation Coefficient is\", pearson_coef, \" with a P-value of P =\", p_value)  "
   ]
  },
  {
   "cell_type": "markdown",
   "metadata": {},
   "source": [
    "<h4>Conclusion:</h4>\n",
    "<p>Since the p-value is $<$ 0.001, the correlation between wheel-base and price is statistically significant, although the linear relationship isn't extremely strong (~0.585).</p>\n"
   ]
  },
  {
   "cell_type": "markdown",
   "metadata": {},
   "source": [
    "<h3>Horsepower vs. Price</h3>\n"
   ]
  },
  {
   "cell_type": "markdown",
   "metadata": {},
   "source": [
    " Let's calculate the  Pearson Correlation Coefficient and P-value of 'horsepower' and 'price'.\n"
   ]
  },
  {
   "cell_type": "code",
   "execution_count": 41,
   "metadata": {},
   "outputs": [
    {
     "name": "stdout",
     "output_type": "stream",
     "text": [
      "The Pearson Correlation Coefficient is 0.8109128508642177  with a P-value of P =  9.957941707718337e-48\n"
     ]
    }
   ],
   "source": [
    "pearson_coef, p_value = stats.pearsonr(df['horsepower'], df['price'])\n",
    "print(\"The Pearson Correlation Coefficient is\", pearson_coef, \" with a P-value of P = \", p_value)  "
   ]
  },
  {
   "cell_type": "markdown",
   "metadata": {},
   "source": [
    "<h4>Conclusion:</h4>\n",
    "\n",
    "<p>Since the p-value is $<$ 0.001, the correlation between horsepower and price is statistically significant, and the linear relationship is quite strong (~0.809, close to 1).</p>\n"
   ]
  },
  {
   "cell_type": "markdown",
   "metadata": {},
   "source": [
    "<h3>Length vs. Price</h3>\n",
    "\n",
    "Let's calculate the  Pearson Correlation Coefficient and P-value of 'length' and 'price'.\n"
   ]
  },
  {
   "cell_type": "code",
   "execution_count": 42,
   "metadata": {},
   "outputs": [
    {
     "name": "stdout",
     "output_type": "stream",
     "text": [
      "The Pearson Correlation Coefficient is 0.6915248396813133  with a P-value of P =  1.2178901648270104e-29\n"
     ]
    }
   ],
   "source": [
    "pearson_coef, p_value = stats.pearsonr(df['length'], df['price'])\n",
    "print(\"The Pearson Correlation Coefficient is\", pearson_coef, \" with a P-value of P = \", p_value)  "
   ]
  },
  {
   "cell_type": "markdown",
   "metadata": {},
   "source": [
    "<h4>Conclusion:</h4>\n",
    "<p>Since the p-value is $<$ 0.001, the correlation between length and price is statistically significant, and the linear relationship is moderately strong (~0.691).</p>\n"
   ]
  },
  {
   "cell_type": "markdown",
   "metadata": {},
   "source": [
    "<h3>Width vs. Price</h3>\n"
   ]
  },
  {
   "cell_type": "markdown",
   "metadata": {},
   "source": [
    " Let's calculate the Pearson Correlation Coefficient and P-value of 'width' and 'price':\n"
   ]
  },
  {
   "cell_type": "code",
   "execution_count": 43,
   "metadata": {},
   "outputs": [
    {
     "name": "stdout",
     "output_type": "stream",
     "text": [
      "The Pearson Correlation Coefficient is 0.7535696731072402  with a P-value of P = 9.631173688896967e-38\n"
     ]
    }
   ],
   "source": [
    "pearson_coef, p_value = stats.pearsonr(df['width'], df['price'])\n",
    "print(\"The Pearson Correlation Coefficient is\", pearson_coef, \" with a P-value of P =\", p_value ) "
   ]
  },
  {
   "cell_type": "markdown",
   "metadata": {},
   "source": [
    "#### Conclusion:\n",
    "\n",
    "Since the p-value is < 0.001, the correlation between width and price is statistically significant, and the linear relationship is quite strong (~0.751).\n"
   ]
  },
  {
   "cell_type": "markdown",
   "metadata": {},
   "source": [
    "### Curb-Weight vs. Price\n"
   ]
  },
  {
   "cell_type": "markdown",
   "metadata": {},
   "source": [
    " Let's calculate the Pearson Correlation Coefficient and P-value of 'curb-weight' and 'price':\n"
   ]
  },
  {
   "cell_type": "code",
   "execution_count": 44,
   "metadata": {},
   "outputs": [
    {
     "name": "stdout",
     "output_type": "stream",
     "text": [
      "The Pearson Correlation Coefficient is 0.8348501300587612  with a P-value of P =  5.718321599101238e-53\n"
     ]
    }
   ],
   "source": [
    "pearson_coef, p_value = stats.pearsonr(df['curb-weight'], df['price'])\n",
    "print( \"The Pearson Correlation Coefficient is\", pearson_coef, \" with a P-value of P = \", p_value)  "
   ]
  },
  {
   "cell_type": "markdown",
   "metadata": {},
   "source": [
    "<h4>Conclusion:</h4>\n",
    "<p>Since the p-value is $<$ 0.001, the correlation between curb-weight and price is statistically significant, and the linear relationship is quite strong (~0.834).</p>\n"
   ]
  },
  {
   "cell_type": "markdown",
   "metadata": {},
   "source": [
    "<h3>Engine-Size vs. Price</h3>\n",
    "\n",
    "Let's calculate the Pearson Correlation Coefficient and P-value of 'engine-size' and 'price':\n"
   ]
  },
  {
   "cell_type": "code",
   "execution_count": 45,
   "metadata": {},
   "outputs": [
    {
     "name": "stdout",
     "output_type": "stream",
     "text": [
      "The Pearson Correlation Coefficient is 0.8728804279659759  with a P-value of P = 2.6283631323674926e-63\n"
     ]
    }
   ],
   "source": [
    "pearson_coef, p_value = stats.pearsonr(df['engine-size'], df['price'])\n",
    "print(\"The Pearson Correlation Coefficient is\", pearson_coef, \" with a P-value of P =\", p_value) "
   ]
  },
  {
   "cell_type": "markdown",
   "metadata": {},
   "source": [
    "<h4>Conclusion:</h4>\n",
    "\n",
    "<p>Since the p-value is $<$ 0.001, the correlation between engine-size and price is statistically significant, and the linear relationship is very strong (~0.872).</p>\n"
   ]
  },
  {
   "cell_type": "markdown",
   "metadata": {},
   "source": [
    "<h3>Bore vs. Price</h3>\n"
   ]
  },
  {
   "cell_type": "markdown",
   "metadata": {},
   "source": [
    " Let's calculate the  Pearson Correlation Coefficient and P-value of 'bore' and 'price':\n"
   ]
  },
  {
   "cell_type": "code",
   "execution_count": 46,
   "metadata": {},
   "outputs": [
    {
     "name": "stdout",
     "output_type": "stream",
     "text": [
      "The Pearson Correlation Coefficient is 0.5574360040674443  with a P-value of P =   1.2142163415914637e-17\n"
     ]
    }
   ],
   "source": [
    "pearson_coef, p_value = stats.pearsonr(df['bore'], df['price'])\n",
    "print(\"The Pearson Correlation Coefficient is\", pearson_coef, \" with a P-value of P =  \", p_value ) "
   ]
  },
  {
   "cell_type": "markdown",
   "metadata": {},
   "source": [
    "<h4>Conclusion:</h4>\n",
    "<p>Since the p-value is $<$ 0.001, the correlation between bore and price is statistically significant, but the linear relationship is only moderate (~0.521).</p>\n"
   ]
  },
  {
   "cell_type": "markdown",
   "metadata": {},
   "source": [
    " We can relate the process for each 'city-mpg'  and 'highway-mpg':\n"
   ]
  },
  {
   "cell_type": "markdown",
   "metadata": {},
   "source": [
    "<h3>City-mpg vs. Price</h3>\n"
   ]
  },
  {
   "cell_type": "code",
   "execution_count": 47,
   "metadata": {},
   "outputs": [
    {
     "name": "stdout",
     "output_type": "stream",
     "text": [
      "The Pearson Correlation Coefficient is -0.6864480554328124  with a P-value of P =  4.554653544142807e-29\n"
     ]
    }
   ],
   "source": [
    "pearson_coef, p_value = stats.pearsonr(df['city-mpg'], df['price'])\n",
    "print(\"The Pearson Correlation Coefficient is\", pearson_coef, \" with a P-value of P = \", p_value)  "
   ]
  },
  {
   "cell_type": "markdown",
   "metadata": {},
   "source": [
    "<h4>Conclusion:</h4>\n",
    "<p>Since the p-value is $<$ 0.001, the correlation between city-mpg and price is statistically significant, and the coefficient of about -0.687 shows that the relationship is negative and moderately strong.</p>\n"
   ]
  },
  {
   "cell_type": "markdown",
   "metadata": {},
   "source": [
    "<h3>Highway-mpg vs. Price</h3>\n"
   ]
  },
  {
   "cell_type": "code",
   "execution_count": 48,
   "metadata": {},
   "outputs": [
    {
     "name": "stdout",
     "output_type": "stream",
     "text": [
      "The Pearson Correlation Coefficient is -0.7043867615255424  with a P-value of P =  3.8012010439093073e-31\n"
     ]
    }
   ],
   "source": [
    "pearson_coef, p_value = stats.pearsonr(df['highway-mpg'], df['price'])\n",
    "print( \"The Pearson Correlation Coefficient is\", pearson_coef, \" with a P-value of P = \", p_value ) "
   ]
  },
  {
   "cell_type": "markdown",
   "metadata": {},
   "source": [
    "#### Conclusion:\n",
    "Since the p-value is < 0.001, the correlation between highway-mpg and price is statistically significant, and the coefficient of about -0.705 shows that the relationship is negative and moderately strong.\n"
   ]
  },
  {
   "cell_type": "markdown",
   "metadata": {},
   "source": [
    "<h2 id=\"anova\">6. ANOVA</h2>\n"
   ]
  },
  {
   "cell_type": "markdown",
   "metadata": {},
   "source": [
    "<h3>ANOVA: Analysis of Variance</h3>\n",
    "<p>The Analysis of Variance  (ANOVA) is a statistical method used to test whether there are significant differences between the means of two or more groups. ANOVA returns two parameters:</p>\n",
    "\n",
    "<p><b>F-test score</b>: ANOVA assumes the means of all groups are the same, calculates how much the actual means deviate from the assumption, and reports it as the F-test score. A larger score means there is a larger difference between the means.</p>\n",
    "\n",
    "<p><b>P-value</b>:  P-value tells how statistically significant our calculated score value is.</p>\n",
    "\n",
    "<p>If our price variable is strongly correlated with the variable we are analyzing, we expect ANOVA to return a sizeable F-test score and a small p-value.</p>\n"
   ]
  },
  {
   "cell_type": "markdown",
   "metadata": {},
   "source": [
    "<h3>Drive Wheels</h3>\n"
   ]
  },
  {
   "cell_type": "markdown",
   "metadata": {},
   "source": [
    "<p>Since ANOVA analyzes the difference between different groups of the same variable, the groupby function will come in handy. Because the ANOVA algorithm averages the data automatically, we do not need to take the average before hand.</p>\n",
    "\n",
    "<p>To see if different types of 'drive-wheels' impact  'price', we group the data.</p>\n"
   ]
  },
  {
   "cell_type": "code",
   "execution_count": 49,
   "metadata": {},
   "outputs": [
    {
     "data": {
      "text/html": [
       "<div>\n",
       "<style scoped>\n",
       "    .dataframe tbody tr th:only-of-type {\n",
       "        vertical-align: middle;\n",
       "    }\n",
       "\n",
       "    .dataframe tbody tr th {\n",
       "        vertical-align: top;\n",
       "    }\n",
       "\n",
       "    .dataframe thead th {\n",
       "        text-align: right;\n",
       "    }\n",
       "</style>\n",
       "<table border=\"1\" class=\"dataframe\">\n",
       "  <thead>\n",
       "    <tr style=\"text-align: right;\">\n",
       "      <th></th>\n",
       "      <th>drive-wheels</th>\n",
       "      <th>price</th>\n",
       "    </tr>\n",
       "  </thead>\n",
       "  <tbody>\n",
       "    <tr>\n",
       "      <th>0</th>\n",
       "      <td>rwd</td>\n",
       "      <td>13495</td>\n",
       "    </tr>\n",
       "    <tr>\n",
       "      <th>1</th>\n",
       "      <td>rwd</td>\n",
       "      <td>16500</td>\n",
       "    </tr>\n",
       "    <tr>\n",
       "      <th>2</th>\n",
       "      <td>4wd</td>\n",
       "      <td>17450</td>\n",
       "    </tr>\n",
       "    <tr>\n",
       "      <th>3</th>\n",
       "      <td>fwd</td>\n",
       "      <td>15250</td>\n",
       "    </tr>\n",
       "    <tr>\n",
       "      <th>4</th>\n",
       "      <td>fwd</td>\n",
       "      <td>17710</td>\n",
       "    </tr>\n",
       "    <tr>\n",
       "      <th>134</th>\n",
       "      <td>4wd</td>\n",
       "      <td>7603</td>\n",
       "    </tr>\n",
       "  </tbody>\n",
       "</table>\n",
       "</div>"
      ],
      "text/plain": [
       "    drive-wheels  price\n",
       "0            rwd  13495\n",
       "1            rwd  16500\n",
       "2            4wd  17450\n",
       "3            fwd  15250\n",
       "4            fwd  17710\n",
       "134          4wd   7603"
      ]
     },
     "execution_count": 49,
     "metadata": {},
     "output_type": "execute_result"
    }
   ],
   "source": [
    "grouped_test2=df_gptest[['drive-wheels', 'price']].groupby(['drive-wheels'])\n",
    "grouped_test2.head(2)"
   ]
  },
  {
   "cell_type": "code",
   "execution_count": 50,
   "metadata": {},
   "outputs": [
    {
     "data": {
      "text/html": [
       "<div>\n",
       "<style scoped>\n",
       "    .dataframe tbody tr th:only-of-type {\n",
       "        vertical-align: middle;\n",
       "    }\n",
       "\n",
       "    .dataframe tbody tr th {\n",
       "        vertical-align: top;\n",
       "    }\n",
       "\n",
       "    .dataframe thead th {\n",
       "        text-align: right;\n",
       "    }\n",
       "</style>\n",
       "<table border=\"1\" class=\"dataframe\">\n",
       "  <thead>\n",
       "    <tr style=\"text-align: right;\">\n",
       "      <th></th>\n",
       "      <th>drive-wheels</th>\n",
       "      <th>body-style</th>\n",
       "      <th>price</th>\n",
       "    </tr>\n",
       "  </thead>\n",
       "  <tbody>\n",
       "    <tr>\n",
       "      <th>0</th>\n",
       "      <td>rwd</td>\n",
       "      <td>convertible</td>\n",
       "      <td>13495</td>\n",
       "    </tr>\n",
       "    <tr>\n",
       "      <th>1</th>\n",
       "      <td>rwd</td>\n",
       "      <td>convertible</td>\n",
       "      <td>16500</td>\n",
       "    </tr>\n",
       "    <tr>\n",
       "      <th>2</th>\n",
       "      <td>4wd</td>\n",
       "      <td>sedan</td>\n",
       "      <td>17450</td>\n",
       "    </tr>\n",
       "    <tr>\n",
       "      <th>3</th>\n",
       "      <td>fwd</td>\n",
       "      <td>sedan</td>\n",
       "      <td>15250</td>\n",
       "    </tr>\n",
       "    <tr>\n",
       "      <th>4</th>\n",
       "      <td>fwd</td>\n",
       "      <td>sedan</td>\n",
       "      <td>17710</td>\n",
       "    </tr>\n",
       "    <tr>\n",
       "      <th>...</th>\n",
       "      <td>...</td>\n",
       "      <td>...</td>\n",
       "      <td>...</td>\n",
       "    </tr>\n",
       "    <tr>\n",
       "      <th>194</th>\n",
       "      <td>rwd</td>\n",
       "      <td>sedan</td>\n",
       "      <td>16845</td>\n",
       "    </tr>\n",
       "    <tr>\n",
       "      <th>195</th>\n",
       "      <td>rwd</td>\n",
       "      <td>sedan</td>\n",
       "      <td>19045</td>\n",
       "    </tr>\n",
       "    <tr>\n",
       "      <th>196</th>\n",
       "      <td>rwd</td>\n",
       "      <td>sedan</td>\n",
       "      <td>21485</td>\n",
       "    </tr>\n",
       "    <tr>\n",
       "      <th>197</th>\n",
       "      <td>rwd</td>\n",
       "      <td>sedan</td>\n",
       "      <td>22470</td>\n",
       "    </tr>\n",
       "    <tr>\n",
       "      <th>198</th>\n",
       "      <td>rwd</td>\n",
       "      <td>sedan</td>\n",
       "      <td>22625</td>\n",
       "    </tr>\n",
       "  </tbody>\n",
       "</table>\n",
       "<p>199 rows × 3 columns</p>\n",
       "</div>"
      ],
      "text/plain": [
       "    drive-wheels   body-style  price\n",
       "0            rwd  convertible  13495\n",
       "1            rwd  convertible  16500\n",
       "2            4wd        sedan  17450\n",
       "3            fwd        sedan  15250\n",
       "4            fwd        sedan  17710\n",
       "..           ...          ...    ...\n",
       "194          rwd        sedan  16845\n",
       "195          rwd        sedan  19045\n",
       "196          rwd        sedan  21485\n",
       "197          rwd        sedan  22470\n",
       "198          rwd        sedan  22625\n",
       "\n",
       "[199 rows x 3 columns]"
      ]
     },
     "execution_count": 50,
     "metadata": {},
     "output_type": "execute_result"
    }
   ],
   "source": [
    "df_gptest"
   ]
  },
  {
   "cell_type": "markdown",
   "metadata": {},
   "source": [
    " We can obtain the values of the method group using the method \"get_group\".  \n"
   ]
  },
  {
   "cell_type": "code",
   "execution_count": 51,
   "metadata": {},
   "outputs": [
    {
     "data": {
      "text/plain": [
       "2      17450\n",
       "134     7603\n",
       "138     9233\n",
       "139    11259\n",
       "142     8013\n",
       "143    11694\n",
       "148     7898\n",
       "149     8778\n",
       "Name: price, dtype: int64"
      ]
     },
     "execution_count": 51,
     "metadata": {},
     "output_type": "execute_result"
    }
   ],
   "source": [
    "grouped_test2.get_group('4wd')['price']"
   ]
  },
  {
   "cell_type": "markdown",
   "metadata": {},
   "source": [
    "We can use the function 'f_oneway' in the module 'stats' to obtain the <b>F-test score</b> and <b>P-value</b>.\n"
   ]
  },
  {
   "cell_type": "code",
   "execution_count": 52,
   "metadata": {},
   "outputs": [
    {
     "name": "stdout",
     "output_type": "stream",
     "text": [
      "ANOVA results: F= 67.85006736010277 , P = 4.055286089229809e-23\n"
     ]
    }
   ],
   "source": [
    "# ANOVA\n",
    "f_val, p_val = stats.f_oneway(grouped_test2.get_group('fwd')['price'], grouped_test2.get_group('rwd')['price'], grouped_test2.get_group('4wd')['price'])  \n",
    " \n",
    "print( \"ANOVA results: F=\", f_val, \", P =\", p_val)   "
   ]
  },
  {
   "cell_type": "markdown",
   "metadata": {},
   "source": [
    "This is a great result with a large F-test score showing a strong correlation and a P-value of almost 0 implying almost certain statistical significance. But does this mean all three tested groups are all this highly correlated? \n",
    "\n",
    "Let's examine them separately.\n"
   ]
  },
  {
   "cell_type": "markdown",
   "metadata": {},
   "source": [
    "#### fwd and rwd\n"
   ]
  },
  {
   "cell_type": "code",
   "execution_count": 53,
   "metadata": {},
   "outputs": [
    {
     "name": "stdout",
     "output_type": "stream",
     "text": [
      "ANOVA results: F= 130.3433636160132 , P = 2.677633766462365e-23\n"
     ]
    }
   ],
   "source": [
    "f_val, p_val = stats.f_oneway(grouped_test2.get_group('fwd')['price'], grouped_test2.get_group('rwd')['price'])  \n",
    " \n",
    "print( \"ANOVA results: F=\", f_val, \", P =\", p_val )"
   ]
  },
  {
   "cell_type": "markdown",
   "metadata": {},
   "source": [
    " Let's examine the other groups.\n"
   ]
  },
  {
   "cell_type": "markdown",
   "metadata": {},
   "source": [
    "#### 4wd and rwd\n"
   ]
  },
  {
   "cell_type": "code",
   "execution_count": 54,
   "metadata": {
    "scrolled": true
   },
   "outputs": [
    {
     "name": "stdout",
     "output_type": "stream",
     "text": [
      "ANOVA results: F= 8.557098821739983 , P = 0.004477000668914294\n"
     ]
    }
   ],
   "source": [
    "f_val, p_val = stats.f_oneway(grouped_test2.get_group('4wd')['price'], grouped_test2.get_group('rwd')['price'])  \n",
    "   \n",
    "print( \"ANOVA results: F=\", f_val, \", P =\", p_val)   "
   ]
  },
  {
   "cell_type": "markdown",
   "metadata": {},
   "source": [
    "<h4>4wd and fwd</h4>\n"
   ]
  },
  {
   "cell_type": "code",
   "execution_count": 55,
   "metadata": {},
   "outputs": [
    {
     "name": "stdout",
     "output_type": "stream",
     "text": [
      "ANOVA results: F= 0.7257775892577998 , P = 0.3959109502348238\n"
     ]
    }
   ],
   "source": [
    "f_val, p_val = stats.f_oneway(grouped_test2.get_group('4wd')['price'], grouped_test2.get_group('fwd')['price'])  \n",
    " \n",
    "print(\"ANOVA results: F=\", f_val, \", P =\", p_val)   "
   ]
  },
  {
   "cell_type": "markdown",
   "metadata": {},
   "source": [
    "We notice that ANOVA for the categories `4wd` and `fwd` yields a high p-value > 0.1, so the calculated F-test score is not very statistically significant. This suggests we can't reject the assumption that the means of these two groups are the same, or, in other words, we can't conclude the difference in correlation to be significant.\n"
   ]
  },
  {
   "cell_type": "markdown",
   "metadata": {},
   "source": [
    "<h3>Conclusion: Important Variables</h3>\n"
   ]
  },
  {
   "cell_type": "markdown",
   "metadata": {},
   "source": [
    "<p>We now have a better idea of what our data looks like and which variables are important to take into account when predicting the car price. We have narrowed it down to the following variables:</p>\n",
    "\n",
    "Continuous numerical variables:\n",
    "<ul>\n",
    "    <li>Length</li>\n",
    "    <li>Width</li>\n",
    "    <li>Curb-weight</li>\n",
    "    <li>Engine-size</li>\n",
    "    <li>Horsepower</li>\n",
    "    <li>City-mpg</li>\n",
    "    <li>Highway-mpg</li>\n",
    "    <li>Wheel-base</li>\n",
    "    <li>Bore</li>\n",
    "</ul>\n",
    "    \n",
    "Categorical variables:\n",
    "<ul>\n",
    "    <li>Drive-wheels</li>\n",
    "</ul>\n",
    "\n",
    "<p>As we now move into building machine learning models to automate our analysis, feeding the model with variables that meaningfully affect our target variable will improve our model's prediction performance.</p>\n"
   ]
  },
  {
   "cell_type": "markdown",
   "metadata": {},
   "source": [
    "### Thank you for completing this lab!\n",
    "\n",
    "\n",
    "## Author\n",
    "\n",
    "<a href=\"https://www.linkedin.com/in/joseph-s-50398b136/?utm_medium=Exinfluencer&utm_source=Exinfluencer&utm_content=000026UJ&utm_term=10006555&utm_id=NA-SkillsNetwork-Channel-SkillsNetworkCoursesIBMDeveloperSkillsNetworkDA0101ENSkillsNetwork971-2022-01-01\" target=\"_blank\">Joseph Santarcangelo</a>\n",
    "\n",
    "\n",
    "### Other Contributors\n",
    "\n",
    "<a href=\"https://www.linkedin.com/in/mahdi-noorian-58219234/?utm_medium=Exinfluencer&utm_source=Exinfluencer&utm_content=000026UJ&utm_term=10006555&utm_id=NA-SkillsNetwork-Channel-SkillsNetworkCoursesIBMDeveloperSkillsNetworkDA0101ENSkillsNetwork971-2022-01-01\" target=\"_blank\">Mahdi Noorian PhD</a>\n",
    "\n",
    "Bahare Talayian\n",
    "\n",
    "Eric Xiao\n",
    "\n",
    "Steven Dong\n",
    "\n",
    "Parizad\n",
    "\n",
    "Hima Vasudevan\n",
    "\n",
    "<a href=\"https://www.linkedin.com/in/fiorellawever/?utm_medium=Exinfluencer&utm_source=Exinfluencer&utm_content=000026UJ&utm_term=10006555&utm_id=NA-SkillsNetwork-Channel-SkillsNetworkCoursesIBMDeveloperSkillsNetworkDA0101ENSkillsNetwork971-2022-01-01\" target=\"_blank\">Fiorella Wenver</a>\n",
    "\n",
    "<a href=\" https://www.linkedin.com/in/yi-leng-yao-84451275/ \" target=\"_blank\" >Yi Yao</a>.\n",
    "\n",
    "\n",
    "\n",
    "## Change Log\n",
    "\n",
    "\n",
    "|  Date (YYYY-MM-DD) |  Version | Changed By  |  Change Description |\n",
    "|---|---|---|---|\n",
    "| 2020-10-30  | 2.1  | Lakshmi |  changed URL of csv  |\n",
    "| 2020-08-27  | 2.0  | Lavanya  |  Moved lab to course repo in GitLab  |\n",
    "\n",
    "\n",
    "\n",
    "<hr>\n",
    "\n",
    "## <h3 align=\"center\"> © IBM Corporation 2020. All rights reserved. <h3/>\n"
   ]
  }
 ],
 "metadata": {
  "kernelspec": {
   "display_name": "Python 3 (ipykernel)",
   "language": "python",
   "name": "python3"
  },
  "language_info": {
   "codemirror_mode": {
    "name": "ipython",
    "version": 3
   },
   "file_extension": ".py",
   "mimetype": "text/x-python",
   "name": "python",
   "nbconvert_exporter": "python",
   "pygments_lexer": "ipython3",
   "version": "3.10.4"
  }
 },
 "nbformat": 4,
 "nbformat_minor": 4
}
